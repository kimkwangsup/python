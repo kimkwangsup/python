{
 "cells": [
  {
   "cell_type": "code",
   "execution_count": 1,
   "metadata": {},
   "outputs": [
    {
     "name": "stdout",
     "output_type": "stream",
     "text": [
      "a == b : True\n",
      "a is b : False\n"
     ]
    }
   ],
   "source": [
    "a = [1,2,3]\n",
    "b = [1,2,3]\n",
    "print('a == b :', a==b)\n",
    "print('a is b :', a is b)"
   ]
  },
  {
   "cell_type": "code",
   "execution_count": 7,
   "metadata": {},
   "outputs": [
    {
     "name": "stdout",
     "output_type": "stream",
     "text": [
      "루피\n",
      "조로\n",
      "상디\n",
      "조로\n",
      "끝\n"
     ]
    }
   ],
   "source": [
    "# tuple()\n",
    "for name in ('루피','조로','상디','쵸파'):\n",
    "    print(name,end='\\n')\n",
    "else:\n",
    "    print(\"끝\")\n"
   ]
  },
  {
   "cell_type": "code",
   "execution_count": 13,
   "metadata": {},
   "outputs": [
    {
     "name": "stdout",
     "output_type": "stream",
     "text": [
      "쵸파 상디 조로 루피 "
     ]
    }
   ],
   "source": [
    "# set()\n",
    "for name in {'루피','조로','상디','쵸파'}:\n",
    "    print(name,end=' ')"
   ]
  },
  {
   "cell_type": "code",
   "execution_count": 18,
   "metadata": {},
   "outputs": [
    {
     "name": "stdout",
     "output_type": "stream",
     "text": [
      "선장 : 루피\n",
      "부선장 : 조로\n",
      "요리사 : 상디\n",
      "의사 : 쵸파\n"
     ]
    }
   ],
   "source": [
    "# dict()\n",
    "onePc = {'선장':'루피','부선장':'조로','요리사':'상디','의사':'쵸파'}\n",
    "for k in onePc:\n",
    "    print(k,':',onePc[k],end='\\n')"
   ]
  },
  {
   "cell_type": "markdown",
   "metadata": {},
   "source": [
    "#### 자료구조 형식\n",
    "\n",
    "<ol>\n",
    "    <li>list     : [데이터]</li>\n",
    "    <li>tuple    : (데이터)</li>\n",
    "    <li>set      : {데이터}</li>\n",
    "    <li>dict     : {키값: 데이터,...}</li>\n",
    "<ol>"
   ]
  },
  {
   "cell_type": "code",
   "execution_count": 19,
   "metadata": {},
   "outputs": [
    {
     "name": "stdout",
     "output_type": "stream",
     "text": [
      "c\n",
      "h\n",
      "o\n",
      "p\n",
      "p\n",
      "e\n",
      "r\n"
     ]
    }
   ],
   "source": [
    "for c in 'chopper':\n",
    "    print(c, end='\\n')"
   ]
  },
  {
   "cell_type": "code",
   "execution_count": 22,
   "metadata": {},
   "outputs": [
    {
     "name": "stdout",
     "output_type": "stream",
     "text": [
      "ㄹㅇㅋㅋ\n"
     ]
    }
   ],
   "source": [
    "list1 = []\n",
    "for c in list1:\n",
    "    print(c,end='\\n')\n",
    "else:\n",
    "    print('ㄹㅇㅋㅋ')"
   ]
  },
  {
   "cell_type": "code",
   "execution_count": 23,
   "metadata": {},
   "outputs": [
    {
     "name": "stdout",
     "output_type": "stream",
     "text": [
      "['제', '일', ' ', '위', '에', ' ', '있', '는', ' ', '것', '으', '로']\n"
     ]
    }
   ],
   "source": [
    "msg = '제일 위에 있는 것으로'\n",
    "list2 = []\n",
    "\n",
    "for c in msg:\n",
    "    list2.append(c)\n",
    "print(list2)"
   ]
  },
  {
   "cell_type": "code",
   "execution_count": 24,
   "metadata": {},
   "outputs": [],
   "source": [
    "list3 = ['\"' + c + '\"' for c in msg]"
   ]
  },
  {
   "cell_type": "code",
   "execution_count": 25,
   "metadata": {},
   "outputs": [
    {
     "name": "stdout",
     "output_type": "stream",
     "text": [
      "['\"제\"', '\"일\"', '\" \"', '\"위\"', '\"에\"', '\" \"', '\"있\"', '\"는\"', '\" \"', '\"것\"', '\"으\"', '\"로\"']\n"
     ]
    }
   ],
   "source": [
    "print(list3)"
   ]
  },
  {
   "cell_type": "code",
   "execution_count": 35,
   "metadata": {},
   "outputs": [
    {
     "name": "stdout",
     "output_type": "stream",
     "text": [
      "[1, 4, 9, 16, 25, 36, 49, 64, 81, 100]\n"
     ]
    }
   ],
   "source": [
    "list4 = [no**2 for no in range(1,11)]\n",
    "print(list4)"
   ]
  },
  {
   "cell_type": "code",
   "execution_count": 36,
   "metadata": {},
   "outputs": [
    {
     "name": "stdout",
     "output_type": "stream",
     "text": [
      "[1, 9, 25, 49, 81]\n"
     ]
    }
   ],
   "source": [
    "list4 = [no**2 for no in range(1,11) if no % 2 == 1]\n",
    "print(list4)"
   ]
  },
  {
   "cell_type": "markdown",
   "metadata": {},
   "source": [
    "##### 별찍기"
   ]
  },
  {
   "cell_type": "code",
   "execution_count": 105,
   "metadata": {},
   "outputs": [
    {
     "name": "stdout",
     "output_type": "stream",
     "text": [
      "*\n",
      "**\n",
      "***\n",
      "****\n",
      "*****\n"
     ]
    }
   ],
   "source": [
    "# 0.\n",
    "star = range(1,6)\n",
    "for i in range(1,6):\n",
    "    for j in range(i, i+1):\n",
    "        print('*'*j)"
   ]
  },
  {
   "cell_type": "code",
   "execution_count": 146,
   "metadata": {},
   "outputs": [
    {
     "name": "stdout",
     "output_type": "stream",
     "text": [
      " *****\n",
      "  ****\n",
      "   ***\n",
      "    **\n",
      "     *\n"
     ]
    }
   ],
   "source": [
    "# 3. \n",
    "for i in star:\n",
    "    for j in range(6-i, 6-i+1):\n",
    "        print(' '*(i-1),'*'*j)\n",
    "        "
   ]
  },
  {
   "cell_type": "code",
   "execution_count": 48,
   "metadata": {},
   "outputs": [
    {
     "name": "stdout",
     "output_type": "stream",
     "text": [
      "  *****\n",
      "   ****\n",
      "    ***\n",
      "     **\n",
      "      *\n"
     ]
    }
   ],
   "source": [
    "# 4.\n",
    "for i in star:\n",
    "    print(' ' * i , '*'*(6-i),end='\\n')"
   ]
  },
  {
   "cell_type": "code",
   "execution_count": 169,
   "metadata": {},
   "outputs": [
    {
     "name": "stdout",
     "output_type": "stream",
     "text": [
      "2 x 1 = 2\t3 x 1 = 3\t4 x 1 = 4\t5 x 1 = 5\t6 x 1 = 6\t7 x 1 = 7\t8 x 1 = 8\t9 x 1 = 9\t\n",
      "2 x 2 = 4\t3 x 2 = 6\t4 x 2 = 8\t5 x 2 = 10\t6 x 2 = 12\t7 x 2 = 14\t8 x 2 = 16\t9 x 2 = 18\t\n",
      "2 x 3 = 6\t3 x 3 = 9\t4 x 3 = 12\t5 x 3 = 15\t6 x 3 = 18\t7 x 3 = 21\t8 x 3 = 24\t9 x 3 = 27\t\n",
      "2 x 4 = 8\t3 x 4 = 12\t4 x 4 = 16\t5 x 4 = 20\t6 x 4 = 24\t7 x 4 = 28\t8 x 4 = 32\t9 x 4 = 36\t\n",
      "2 x 5 = 10\t3 x 5 = 15\t4 x 5 = 20\t5 x 5 = 25\t6 x 5 = 30\t7 x 5 = 35\t8 x 5 = 40\t9 x 5 = 45\t\n",
      "2 x 6 = 12\t3 x 6 = 18\t4 x 6 = 24\t5 x 6 = 30\t6 x 6 = 36\t7 x 6 = 42\t8 x 6 = 48\t9 x 6 = 54\t\n",
      "2 x 7 = 14\t3 x 7 = 21\t4 x 7 = 28\t5 x 7 = 35\t6 x 7 = 42\t7 x 7 = 49\t8 x 7 = 56\t9 x 7 = 63\t\n",
      "2 x 8 = 16\t3 x 8 = 24\t4 x 8 = 32\t5 x 8 = 40\t6 x 8 = 48\t7 x 8 = 56\t8 x 8 = 64\t9 x 8 = 72\t\n",
      "2 x 9 = 18\t3 x 9 = 27\t4 x 9 = 36\t5 x 9 = 45\t6 x 9 = 54\t7 x 9 = 63\t8 x 9 = 72\t9 x 9 = 81\t\n"
     ]
    }
   ],
   "source": [
    "# 구구단\n",
    "\n",
    "for dan in range(1,10):\n",
    "    for gop in range(2,10):\n",
    "        print(gop,'x',dan,'=',dan*gop,end='\\t')\n",
    "\n",
    "    print()\n",
    "    "
   ]
  },
  {
   "cell_type": "code",
   "execution_count": 177,
   "metadata": {},
   "outputs": [
    {
     "name": "stdout",
     "output_type": "stream",
     "text": [
      "    *\n",
      "   **\n",
      "  ***\n",
      " ****\n",
      "*****\n"
     ]
    }
   ],
   "source": [
    "# 0\n",
    "\n",
    "for i in range(5):\n",
    "    for k in range(4-i):\n",
    "        print(' ', end='')# 줄바꿈제거\n",
    "    for k in range(i+1):\n",
    "        print('*',end='') # 줄바꿈제거\n",
    "    print()"
   ]
  },
  {
   "cell_type": "code",
   "execution_count": 184,
   "metadata": {},
   "outputs": [
    {
     "name": "stdout",
     "output_type": "stream",
     "text": [
      "*\n",
      "**\n",
      "***\n",
      "****\n",
      "*****\n"
     ]
    }
   ],
   "source": [
    "for i in range(5):\n",
    "    ch= ' '\n",
    "    for j in range(5):\n",
    "        if(j >= 4-i):\n",
    "            ch = '*'\n",
    "            print(ch,end='')\n",
    "    print()"
   ]
  },
  {
   "cell_type": "code",
   "execution_count": 192,
   "metadata": {},
   "outputs": [
    {
     "name": "stdout",
     "output_type": "stream",
     "text": [
      "*****\n",
      "**** \n",
      "***  \n",
      "**   \n",
      "*    \n"
     ]
    }
   ],
   "source": [
    "for i in range(5):\n",
    "    ch= ' '\n",
    "    for j in range(5):\n",
    "        ch = '*' if j < 5 - i else ' '            \n",
    "        print(ch,end='')\n",
    "    print()"
   ]
  },
  {
   "cell_type": "code",
   "execution_count": 215,
   "metadata": {},
   "outputs": [
    {
     "name": "stdout",
     "output_type": "stream",
     "text": [
      "2 x 1 =  2\t3 x 1 =  3\t4 x 1 =  4\t5 x 1 =  5\t\n",
      "2 x 2 =  4\t3 x 2 =  6\t4 x 2 =  8\t5 x 2 = 10\t\n",
      "2 x 3 =  6\t3 x 3 =  9\t4 x 3 = 12\t5 x 3 = 15\t\n",
      "2 x 4 =  8\t3 x 4 = 12\t4 x 4 = 16\t5 x 4 = 20\t\n",
      "2 x 5 = 10\t3 x 5 = 15\t4 x 5 = 20\t5 x 5 = 25\t\n",
      "2 x 6 = 12\t3 x 6 = 18\t4 x 6 = 24\t5 x 6 = 30\t\n",
      "2 x 7 = 14\t3 x 7 = 21\t4 x 7 = 28\t5 x 7 = 35\t\n",
      "2 x 8 = 16\t3 x 8 = 24\t4 x 8 = 32\t5 x 8 = 40\t\n",
      "2 x 9 = 18\t3 x 9 = 27\t4 x 9 = 36\t5 x 9 = 45\t\n",
      "\n",
      "6 x 1 =  6\t7 x 1 =  7\t8 x 1 =  8\t9 x 1 =  9\t\n",
      "6 x 2 = 12\t7 x 2 = 14\t8 x 2 = 16\t9 x 2 = 18\t\n",
      "6 x 3 = 18\t7 x 3 = 21\t8 x 3 = 24\t9 x 3 = 27\t\n",
      "6 x 4 = 24\t7 x 4 = 28\t8 x 4 = 32\t9 x 4 = 36\t\n",
      "6 x 5 = 30\t7 x 5 = 35\t8 x 5 = 40\t9 x 5 = 45\t\n",
      "6 x 6 = 36\t7 x 6 = 42\t8 x 6 = 48\t9 x 6 = 54\t\n",
      "6 x 7 = 42\t7 x 7 = 49\t8 x 7 = 56\t9 x 7 = 63\t\n",
      "6 x 8 = 48\t7 x 8 = 56\t8 x 8 = 64\t9 x 8 = 72\t\n",
      "6 x 9 = 54\t7 x 9 = 63\t8 x 9 = 72\t9 x 9 = 81\t\n",
      "\n"
     ]
    }
   ],
   "source": [
    "for h in range(2):\n",
    "    for gop in range(1,10):\n",
    "        for w in range(4):\n",
    "            dan = h * 4 + w + 2\n",
    "            result = dan * gop\n",
    "            print('{0:1} x {1:1} = {2:2}'.format(dan,gop,result), end='\\t')\n",
    "        print()\n",
    "    print()\n",
    "\n"
   ]
  },
  {
   "cell_type": "code",
   "execution_count": 242,
   "metadata": {},
   "outputs": [
    {
     "name": "stdout",
     "output_type": "stream",
     "text": [
      "2 x 1 = 2\t3 x 1 = 3\t4 x 1 = 4\t\n",
      "2 x 2 = 4\t3 x 2 = 6\t4 x 2 = 8\t\n",
      "2 x 3 = 6\t3 x 3 = 9\t4 x 3 = 12\t\n",
      "2 x 4 = 8\t3 x 4 = 12\t4 x 4 = 16\t\n",
      "2 x 5 = 10\t3 x 5 = 15\t4 x 5 = 20\t\n",
      "2 x 6 = 12\t3 x 6 = 18\t4 x 6 = 24\t\n",
      "2 x 7 = 14\t3 x 7 = 21\t4 x 7 = 28\t\n",
      "2 x 8 = 16\t3 x 8 = 24\t4 x 8 = 32\t\n",
      "2 x 9 = 18\t3 x 9 = 27\t4 x 9 = 36\t\n",
      "\n",
      "5 x 1 = 5\t6 x 1 = 6\t7 x 1 = 7\t\n",
      "5 x 2 = 10\t6 x 2 = 12\t7 x 2 = 14\t\n",
      "5 x 3 = 15\t6 x 3 = 18\t7 x 3 = 21\t\n",
      "5 x 4 = 20\t6 x 4 = 24\t7 x 4 = 28\t\n",
      "5 x 5 = 25\t6 x 5 = 30\t7 x 5 = 35\t\n",
      "5 x 6 = 30\t6 x 6 = 36\t7 x 6 = 42\t\n",
      "5 x 7 = 35\t6 x 7 = 42\t7 x 7 = 49\t\n",
      "5 x 8 = 40\t6 x 8 = 48\t7 x 8 = 56\t\n",
      "5 x 9 = 45\t6 x 9 = 54\t7 x 9 = 63\t\n",
      "\n",
      "8 x 1 = 8\t9 x 1 = 9\t\n",
      "8 x 2 = 16\t9 x 2 = 18\t\n",
      "8 x 3 = 24\t9 x 3 = 27\t\n",
      "8 x 4 = 32\t9 x 4 = 36\t\n",
      "8 x 5 = 40\t9 x 5 = 45\t\n",
      "8 x 6 = 48\t9 x 6 = 54\t\n",
      "8 x 7 = 56\t9 x 7 = 63\t\n",
      "8 x 8 = 64\t9 x 8 = 72\t\n",
      "8 x 9 = 72\t9 x 9 = 81\t\n",
      "\n"
     ]
    }
   ],
   "source": [
    "for k in range(2,10,3):\n",
    "    for j in range(1,10):\n",
    "        for i in range(3):\n",
    "            dan = k + i\n",
    "            if(dan == 10):\n",
    "                break;\n",
    "            gop = j\n",
    "            print(dan,'x',gop,'=',dan*gop,end='\\t')\n",
    "        print()\n",
    "    print()"
   ]
  },
  {
   "cell_type": "code",
   "execution_count": null,
   "metadata": {},
   "outputs": [],
   "source": []
  }
 ],
 "metadata": {
  "kernelspec": {
   "display_name": "py310",
   "language": "python",
   "name": "python3"
  },
  "language_info": {
   "codemirror_mode": {
    "name": "ipython",
    "version": 3
   },
   "file_extension": ".py",
   "mimetype": "text/x-python",
   "name": "python",
   "nbconvert_exporter": "python",
   "pygments_lexer": "ipython3",
   "version": "3.10.13"
  }
 },
 "nbformat": 4,
 "nbformat_minor": 2
}
