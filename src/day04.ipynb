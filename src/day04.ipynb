{
 "cells": [
  {
   "cell_type": "markdown",
   "metadata": {},
   "source": [
    "# day04"
   ]
  },
  {
   "cell_type": "markdown",
   "metadata": {},
   "source": [
    "<pre>\n",
    "len() : 시퀀스 자료의 길이를 반환해주는 함수\n",
    "</pre>"
   ]
  },
  {
   "cell_type": "markdown",
   "metadata": {},
   "source": [
    "<pre>\n",
    "latex 수식 입력하기\n",
    "</pre>\n",
    "예제 ] <br>\n",
    "\n",
    "$\n",
    "    f_{(x)} = _{\\beta0} + _{\\beta1}x + _{\\beta2}x^2\n",
    "$"
   ]
  },
  {
   "cell_type": "code",
   "execution_count": 7,
   "metadata": {},
   "outputs": [
    {
     "name": "stdout",
     "output_type": "stream",
     "text": [
      "length msg : 37\n"
     ]
    }
   ],
   "source": [
    "msg = \"How is the weather? It's so hot here.\"\n",
    "print('length msg :', len(msg))"
   ]
  },
  {
   "cell_type": "code",
   "execution_count": 9,
   "metadata": {},
   "outputs": [
    {
     "name": "stdout",
     "output_type": "stream",
     "text": [
      "How is the\n",
      " weather? \n",
      "It's so ho\n",
      "t here."
     ]
    }
   ],
   "source": [
    "for i in range(len(msg)):\n",
    "    munja = msg[i]\n",
    "    print(munja, end=\"\")\n",
    "    if(i + 1) % 10 == 0:\n",
    "        print()"
   ]
  },
  {
   "cell_type": "code",
   "execution_count": 12,
   "metadata": {},
   "outputs": [
    {
     "name": "stdout",
     "output_type": "stream",
     "text": [
      "la\n",
      "Bla\n",
      "BakPn\n"
     ]
    }
   ],
   "source": [
    "bp = 'Black Pink'\n",
    "print(bp[1:3])\n",
    "print(bp[0:3])\n",
    "print(bp[::2])\n"
   ]
  },
  {
   "cell_type": "markdown",
   "metadata": {},
   "source": [
    "#### * 문자별 슬라이싱 방법\n",
    "<pre>\n",
    "    문자열[시작인덱스:종료인덱스:스텝]\n",
    "\n",
    "    문자열[위치값] : 해당 위치의 문자 하나 추출\n",
    "    문자열[시작:종료위치] : 시작위치에서부터 종료위치 직전까지 추출\n",
    "\n",
    "    문자열[시작위치::스텝] : 시작위치에서부터 스텝만큼 건너면면서 추출 \n",
    "    문자열[:종료위치:스텝] : 첫번째 문자부터 종료위치 직전까지 스텝만큼 건너뛰면서 추출 \n",
    "</pre>"
   ]
  },
  {
   "cell_type": "code",
   "execution_count": 14,
   "metadata": {},
   "outputs": [
    {
     "name": "stdout",
     "output_type": "stream",
     "text": [
      "akPn\n"
     ]
    }
   ],
   "source": [
    "print(bp[2::2])"
   ]
  },
  {
   "cell_type": "code",
   "execution_count": 16,
   "metadata": {},
   "outputs": [
    {
     "data": {
      "text/plain": [
       "'BcP'"
      ]
     },
     "execution_count": 16,
     "metadata": {},
     "output_type": "execute_result"
    }
   ],
   "source": [
    "bp[:7:3]"
   ]
  },
  {
   "cell_type": "code",
   "execution_count": 17,
   "metadata": {},
   "outputs": [
    {
     "data": {
      "text/plain": [
       "'l'"
      ]
     },
     "execution_count": 17,
     "metadata": {},
     "output_type": "execute_result"
    }
   ],
   "source": [
    "'hello'[2]\n",
    "#  ==> 문자열에서 세번째 문자 추출"
   ]
  },
  {
   "cell_type": "code",
   "execution_count": 18,
   "metadata": {},
   "outputs": [
    {
     "data": {
      "text/plain": [
       "'kniP kcalB'"
      ]
     },
     "execution_count": 18,
     "metadata": {},
     "output_type": "execute_result"
    }
   ],
   "source": [
    "bp[::-1]\n",
    "# ==> 문자열을 역순으로 추출"
   ]
  },
  {
   "cell_type": "code",
   "execution_count": 19,
   "metadata": {},
   "outputs": [
    {
     "data": {
      "text/plain": [
       "'k'"
      ]
     },
     "execution_count": 19,
     "metadata": {},
     "output_type": "execute_result"
    }
   ],
   "source": [
    "bp[-1:]"
   ]
  },
  {
   "cell_type": "code",
   "execution_count": 20,
   "metadata": {},
   "outputs": [
    {
     "data": {
      "text/plain": [
       "''"
      ]
     },
     "execution_count": 20,
     "metadata": {},
     "output_type": "execute_result"
    }
   ],
   "source": [
    "bp[-1:-3]"
   ]
  },
  {
   "cell_type": "code",
   "execution_count": 25,
   "metadata": {},
   "outputs": [
    {
     "data": {
      "text/plain": [
       "'kn'"
      ]
     },
     "execution_count": 25,
     "metadata": {},
     "output_type": "execute_result"
    }
   ],
   "source": [
    "bp[-1:-3:-1]"
   ]
  },
  {
   "cell_type": "code",
   "execution_count": 27,
   "metadata": {},
   "outputs": [
    {
     "data": {
      "text/plain": [
       "'kn'"
      ]
     },
     "execution_count": 27,
     "metadata": {},
     "output_type": "execute_result"
    }
   ],
   "source": [
    "bp[::-1][:2]"
   ]
  },
  {
   "cell_type": "code",
   "execution_count": 28,
   "metadata": {},
   "outputs": [
    {
     "data": {
      "text/plain": [
       "'Black Pink'"
      ]
     },
     "execution_count": 28,
     "metadata": {},
     "output_type": "execute_result"
    }
   ],
   "source": [
    "bp"
   ]
  },
  {
   "cell_type": "code",
   "execution_count": 41,
   "metadata": {},
   "outputs": [
    {
     "name": "stdout",
     "output_type": "stream",
     "text": [
      "------------\n",
      "Hello World!\n",
      "Hello World!\n",
      "Hello World!\n",
      "Hello World!\n",
      "Hello World!\n",
      "Hello World!\n",
      "Hello World!\n",
      "Hello World!\n",
      "Hello World!\n",
      "Hello World!\n",
      "\n",
      "------------\n"
     ]
    }
   ],
   "source": [
    "msg = \"Hello World!\"\n",
    "len1 = len(msg)\n",
    "print('-' *len1)\n",
    "print((msg + '\\n')* 10)\n",
    "print('-' *len1)"
   ]
  },
  {
   "cell_type": "code",
   "execution_count": 42,
   "metadata": {},
   "outputs": [
    {
     "data": {
      "text/plain": [
       "True"
      ]
     },
     "execution_count": 42,
     "metadata": {},
     "output_type": "execute_result"
    }
   ],
   "source": [
    "'l' in msg"
   ]
  },
  {
   "cell_type": "code",
   "execution_count": 43,
   "metadata": {},
   "outputs": [
    {
     "name": "stdout",
     "output_type": "stream",
     "text": [
      "h \n"
     ]
    }
   ],
   "source": [
    "if('h' not in msg):\n",
    "    print('h ')"
   ]
  },
  {
   "cell_type": "markdown",
   "metadata": {},
   "source": [
    "# 연산자\n",
    "\n",
    "<pre>\n",
    "연산에 사용되는 기호\n",
    "</pre>"
   ]
  },
  {
   "cell_type": "code",
   "execution_count": 44,
   "metadata": {},
   "outputs": [
    {
     "name": "stdout",
     "output_type": "stream",
     "text": [
      "no : 10\n",
      "no : 3\n"
     ]
    }
   ],
   "source": [
    "# 누적 할당 연산자\n",
    "no = 10\n",
    "print('no :',no)\n",
    "no //= 3\n",
    "print('no :', no)"
   ]
  },
  {
   "cell_type": "code",
   "execution_count": 60,
   "metadata": {},
   "outputs": [
    {
     "name": "stdout",
     "output_type": "stream",
     "text": [
      "4\n",
      "10\n"
     ]
    }
   ],
   "source": [
    "a = 10\n",
    "b = 4\n",
    "# &, | 연산의 피연산자가 정수인 경우에는 이 연산자는 비트연산을 하는 비트연산자.\n",
    "print(a & b)\n",
    "print(a | b)\n",
    "# 조건처리연산자\n",
    "print(a and b)\n",
    "print(a or b)"
   ]
  },
  {
   "cell_type": "markdown",
   "metadata": {},
   "source": [
    "# javascript code\n",
    "var sid = $('#id').val();\n",
    "if(sid){\n",
    "    // if 명령의 조건식 위치(sid)에는 논리값이 입력되어야 한다.\n",
    "    // 일반 변수를 기술하는 경우에는 해당 변수가 비워져있으면 false, 데이터가 존재하면 true 를 반환한다.\n",
    "    // sid 가 NULL, undefined 인 경우 이 블럭 실행\n",
    "}"
   ]
  },
  {
   "cell_type": "code",
   "execution_count": 56,
   "metadata": {},
   "outputs": [
    {
     "name": "stdout",
     "output_type": "stream",
     "text": [
      "알빠노!\n"
     ]
    }
   ],
   "source": [
    "a = None\n",
    "if(a):\n",
    "    # 이 경우 변수 a에 데이터가 채워져 있으면 true를 반환한다.\n",
    "    print('a :', a)\n",
    "else:\n",
    "    print('알빠노!')"
   ]
  },
  {
   "cell_type": "markdown",
   "metadata": {},
   "source": [
    "#### java & javascript 삼항 조건 연산자\n",
    "\n",
    "(조건식) ? 참일때반환값 : 거짓일때반환값;\n",
    "\n",
    "#### python 에서의 삼항 조건 연산자\n",
    "\n",
    "참일때반환값 if 조건식 else 거짓일때반환값"
   ]
  },
  {
   "cell_type": "code",
   "execution_count": 61,
   "metadata": {},
   "outputs": [
    {
     "name": "stdout",
     "output_type": "stream",
     "text": [
      "짝수\n"
     ]
    }
   ],
   "source": [
    "c = a % 2\n",
    "\n",
    "msg = '짝수' if c == 0 else '홀수'\n",
    "print(msg)"
   ]
  },
  {
   "cell_type": "code",
   "execution_count": 64,
   "metadata": {},
   "outputs": [
    {
     "name": "stdout",
     "output_type": "stream",
     "text": [
      "짝수\n"
     ]
    }
   ],
   "source": [
    "if(c != 0):\n",
    "    msg = '홀수'\n",
    "else:\n",
    "    msg = '짝수'\n",
    "print(msg)"
   ]
  },
  {
   "cell_type": "code",
   "execution_count": 69,
   "metadata": {},
   "outputs": [
    {
     "name": "stdout",
     "output_type": "stream",
     "text": [
      "None\n",
      "10\n"
     ]
    }
   ],
   "source": [
    "num1 = None\n",
    "num2 = 10\n",
    "print(num2 and num1) # 데이터가 없는 변수 또는 둘다 있는 경우에는 and 이후에 변수의 내용 출력\n",
    "print(num2 or num1)  # 데이터가 있는 변수 또는 둘다 있는 경우에는 첫번째 변수의 내용을 출력"
   ]
  },
  {
   "cell_type": "markdown",
   "metadata": {},
   "source": [
    "# 자료구조"
   ]
  },
  {
   "cell_type": "markdown",
   "metadata": {},
   "source": [
    "##### List "
   ]
  },
  {
   "cell_type": "code",
   "execution_count": 71,
   "metadata": {},
   "outputs": [
    {
     "name": "stdout",
     "output_type": "stream",
     "text": [
      "list1 : ['jennie', 'lisa', 'rose', 'jisoo']\n"
     ]
    }
   ],
   "source": [
    "list1 = [\n",
    "    'jennie',\n",
    "    'lisa',\n",
    "    'rose',\n",
    "    'jisoo'\n",
    "]\n",
    "print('list1 :',list1)"
   ]
  },
  {
   "cell_type": "code",
   "execution_count": 72,
   "metadata": {},
   "outputs": [
    {
     "name": "stdout",
     "output_type": "stream",
     "text": [
      "list1 * 5 : ['jennie', 'lisa', 'rose', 'jisoo', 'jennie', 'lisa', 'rose', 'jisoo', 'jennie', 'lisa', 'rose', 'jisoo', 'jennie', 'lisa', 'rose', 'jisoo', 'jennie', 'lisa', 'rose', 'jisoo']\n"
     ]
    }
   ],
   "source": [
    "print('list1 * 5 :', list1 * 5)"
   ]
  },
  {
   "cell_type": "code",
   "execution_count": 73,
   "metadata": {},
   "outputs": [
    {
     "name": "stdout",
     "output_type": "stream",
     "text": [
      "['jennie', 'lisa', 'rose', 'jisoo']\n"
     ]
    }
   ],
   "source": [
    "print(list1)"
   ]
  },
  {
   "cell_type": "code",
   "execution_count": 74,
   "metadata": {},
   "outputs": [
    {
     "name": "stdout",
     "output_type": "stream",
     "text": [
      "['jennie', 'lisa', 'rose', 'jisoo', 'jennie', 'lisa', 'rose', 'jisoo']\n"
     ]
    }
   ],
   "source": [
    "print(list1+list1)"
   ]
  },
  {
   "cell_type": "code",
   "execution_count": 78,
   "metadata": {},
   "outputs": [
    {
     "name": "stdout",
     "output_type": "stream",
     "text": [
      "jenniejenniejenniejenniejenniejenniejenniejenniejenniejenniejenniejenniejenniejenniejenniejenniejenniejenniejenniejenniejenniejenniejenniejenniejenniejenniejenniejenniejenniejenniejenniejenniejenniejenniejenniejenniejenniejenniejenniejenniejenniejenniejenniejenniejenniejenniejenniejenniejenniejenniejenniejenniejenniejenniejenniejenniejenniejenniejenniejenniejenniejenniejenniejenniejenniejenniejenniejenniejenniejenniejenniejenniejenniejenniejenniejenniejenniejenniejenniejenniejenniejenniejenniejenniejenniejenniejenniejenniejenniejenniejenniejenniejenniejenniejenniejenniejenniejenniejenniejennie\n"
     ]
    }
   ],
   "source": [
    "print(list1[0] * 100)"
   ]
  },
  {
   "cell_type": "code",
   "execution_count": 79,
   "metadata": {},
   "outputs": [
    {
     "name": "stdout",
     "output_type": "stream",
     "text": [
      "['jennie', 'lisa', 'jennie', 'lisa', 'jennie', 'lisa', 'jennie', 'lisa', 'jennie', 'lisa']\n"
     ]
    }
   ],
   "source": [
    "print(list1[:2] * 5)"
   ]
  },
  {
   "cell_type": "code",
   "execution_count": 81,
   "metadata": {},
   "outputs": [
    {
     "data": {
      "text/plain": [
       "['jisoo', 'rose', 'lisa', 'jennie']"
      ]
     },
     "execution_count": 81,
     "metadata": {},
     "output_type": "execute_result"
    }
   ],
   "source": [
    "list1[::-1]"
   ]
  },
  {
   "cell_type": "code",
   "execution_count": 87,
   "metadata": {},
   "outputs": [
    {
     "name": "stdout",
     "output_type": "stream",
     "text": [
      "list1 : ['jennie', 'lisa', 'rose', 'jisoo']\n",
      "list1[-3] : lisa\n"
     ]
    }
   ],
   "source": [
    "print('list1 :', list1) \n",
    "print('list1[-3] :', list1[-3]) "
   ]
  },
  {
   "cell_type": "code",
   "execution_count": 89,
   "metadata": {},
   "outputs": [
    {
     "name": "stdout",
     "output_type": "stream",
     "text": [
      "['lisa', 'jennie']\n"
     ]
    }
   ],
   "source": [
    "print(list1[-3::-1])"
   ]
  },
  {
   "cell_type": "code",
   "execution_count": 91,
   "metadata": {},
   "outputs": [
    {
     "name": "stdout",
     "output_type": "stream",
     "text": [
      "list2 : [1, 2, 3]\n",
      "list2 : [1, 100, 3]\n"
     ]
    }
   ],
   "source": [
    "list2 = [1,2,3]\n",
    "print('list2 :', list2)\n",
    "list2[1] = 100\n",
    "print('list2 :', list2)\n"
   ]
  },
  {
   "cell_type": "code",
   "execution_count": 92,
   "metadata": {},
   "outputs": [
    {
     "name": "stdout",
     "output_type": "stream",
     "text": [
      "list3 : [3, 4, 5]\n",
      "list2, list3 :  [1, 100, 3] [1, 100, 3]\n"
     ]
    }
   ],
   "source": [
    "list3 = [3,4,5]\n",
    "print('list3 :', list3)\n",
    "list3 = list2\n",
    "print('list2, list3 : ', list2, list3)"
   ]
  },
  {
   "cell_type": "code",
   "execution_count": 98,
   "metadata": {},
   "outputs": [
    {
     "name": "stdout",
     "output_type": "stream",
     "text": [
      "no : 1\n",
      "no : 2\n",
      "no : 3\n",
      "no : 4\n",
      "no : 5\n",
      "no : 6\n",
      "no : 7\n",
      "no : 8\n",
      "no : 9\n",
      "no : 10\n",
      "<class 'range'>\n"
     ]
    }
   ],
   "source": [
    "rng1 = range(1,11)\n",
    "for no in rng1:\n",
    "    print('no :', no, end='\\n')\n",
    "print(type(rng1))"
   ]
  },
  {
   "cell_type": "code",
   "execution_count": 108,
   "metadata": {},
   "outputs": [
    {
     "name": "stdout",
     "output_type": "stream",
     "text": [
      "tp1 : ('jennie', 'lisa', 'rose', 'jisoo')\n",
      "JENNIE\n"
     ]
    }
   ],
   "source": [
    "tp1 = ('jennie', 'lisa', 'rose', 'jisoo')\n",
    "print('tp1 :', tp1)\n",
    "print(tp1[0].upper())"
   ]
  },
  {
   "cell_type": "code",
   "execution_count": 109,
   "metadata": {},
   "outputs": [
    {
     "data": {
      "text/plain": [
       "('jennie', 'lisa', 'rose', 'jisoo')"
      ]
     },
     "execution_count": 109,
     "metadata": {},
     "output_type": "execute_result"
    }
   ],
   "source": [
    "tp1"
   ]
  },
  {
   "cell_type": "code",
   "execution_count": 112,
   "metadata": {},
   "outputs": [
    {
     "data": {
      "text/plain": [
       "('JENNIE', 'lisa', 'rose', 'jisoo')"
      ]
     },
     "execution_count": 112,
     "metadata": {},
     "output_type": "execute_result"
    }
   ],
   "source": [
    "tp1 = ('JENNIE',) + tp1[1:]\n",
    "tp1"
   ]
  },
  {
   "cell_type": "code",
   "execution_count": 115,
   "metadata": {},
   "outputs": [
    {
     "ename": "TypeError",
     "evalue": "'str' object does not support item assignment",
     "output_type": "error",
     "traceback": [
      "\u001b[1;31m---------------------------------------------------------------------------\u001b[0m",
      "\u001b[1;31mTypeError\u001b[0m                                 Traceback (most recent call last)",
      "Cell \u001b[1;32mIn[115], line 1\u001b[0m\n\u001b[1;32m----> 1\u001b[0m bp[\u001b[38;5;241m0\u001b[39m] \u001b[38;5;241m=\u001b[39m \u001b[38;5;124m'\u001b[39m\u001b[38;5;124mb,\u001b[39m\u001b[38;5;124m'\u001b[39m\n",
      "\u001b[1;31mTypeError\u001b[0m: 'str' object does not support item assignment"
     ]
    }
   ],
   "source": [
    "# 문자열 자체는 절대 변하지 않는다.\n",
    "bp[0] = 'b'"
   ]
  },
  {
   "cell_type": "code",
   "execution_count": 116,
   "metadata": {},
   "outputs": [],
   "source": [
    "list4 = list(tp1)"
   ]
  },
  {
   "cell_type": "code",
   "execution_count": 117,
   "metadata": {},
   "outputs": [
    {
     "data": {
      "text/plain": [
       "['JENNIE', 'lisa', 'rose', 'jisoo']"
      ]
     },
     "execution_count": 117,
     "metadata": {},
     "output_type": "execute_result"
    }
   ],
   "source": [
    "list4"
   ]
  },
  {
   "cell_type": "code",
   "execution_count": 118,
   "metadata": {},
   "outputs": [],
   "source": [
    "list4 = tuple(tp1)"
   ]
  },
  {
   "cell_type": "code",
   "execution_count": 119,
   "metadata": {},
   "outputs": [
    {
     "data": {
      "text/plain": [
       "('JENNIE', 'lisa', 'rose', 'jisoo')"
      ]
     },
     "execution_count": 119,
     "metadata": {},
     "output_type": "execute_result"
    }
   ],
   "source": [
    "tp1"
   ]
  },
  {
   "cell_type": "code",
   "execution_count": 120,
   "metadata": {},
   "outputs": [
    {
     "name": "stdout",
     "output_type": "stream",
     "text": [
      "d1 : {'blackpink': ['jennie', 'lisa', 'rose', 'jisoo']}\n"
     ]
    }
   ],
   "source": [
    "d1 = dict()\n",
    "d1['blackpink'] = ['jennie', 'lisa', 'rose', 'jisoo']\n",
    "print('d1 :', d1)"
   ]
  },
  {
   "cell_type": "code",
   "execution_count": 121,
   "metadata": {},
   "outputs": [
    {
     "name": "stdout",
     "output_type": "stream",
     "text": [
      "<class 'dict'>\n"
     ]
    }
   ],
   "source": [
    "print(type(d1))"
   ]
  },
  {
   "cell_type": "code",
   "execution_count": 122,
   "metadata": {},
   "outputs": [
    {
     "name": "stdout",
     "output_type": "stream",
     "text": [
      "t1 : ()\n"
     ]
    }
   ],
   "source": [
    "t1 = tuple()\n",
    "print('t1 :', t1)"
   ]
  },
  {
   "cell_type": "code",
   "execution_count": 123,
   "metadata": {},
   "outputs": [
    {
     "ename": "TypeError",
     "evalue": "'tuple' object does not support item assignment",
     "output_type": "error",
     "traceback": [
      "\u001b[1;31m---------------------------------------------------------------------------\u001b[0m",
      "\u001b[1;31mTypeError\u001b[0m                                 Traceback (most recent call last)",
      "Cell \u001b[1;32mIn[123], line 1\u001b[0m\n\u001b[1;32m----> 1\u001b[0m t1[\u001b[38;5;241m0\u001b[39m] \u001b[38;5;241m=\u001b[39m \u001b[38;5;124m'\u001b[39m\u001b[38;5;124mjennie\u001b[39m\u001b[38;5;124m'\u001b[39m\n\u001b[0;32m      2\u001b[0m \u001b[38;5;28mprint\u001b[39m(\u001b[38;5;124m'\u001b[39m\u001b[38;5;124mt1 :\u001b[39m\u001b[38;5;124m'\u001b[39m, t1)\n",
      "\u001b[1;31mTypeError\u001b[0m: 'tuple' object does not support item assignment"
     ]
    }
   ],
   "source": [
    "t1[0] = 'jennie'\n",
    "print('t1 :', t1)"
   ]
  },
  {
   "cell_type": "code",
   "execution_count": 137,
   "metadata": {},
   "outputs": [],
   "source": [
    "# tuple() 은 데이터를 수정할 수 없는 자료 구조이다.\n",
    "# 데이터를 추가하는 작업을 못한다.\n",
    "\n",
    "l2 = list(t1)\n",
    "l2.append('jennie')\n",
    "l2.append('lisa')\n",
    "l2.append('rose')\n",
    "l2.append('jisoo')\n",
    "t1 = tuple(l2)\n",
    "\n"
   ]
  },
  {
   "cell_type": "code",
   "execution_count": 138,
   "metadata": {},
   "outputs": [
    {
     "name": "stdout",
     "output_type": "stream",
     "text": [
      "['jennie', 'jennie', 'jennie', 'jennie']\n"
     ]
    }
   ],
   "source": [
    "t2 = ('jennie','jennie','jennie','jennie')\n",
    "print(list(t2))"
   ]
  },
  {
   "cell_type": "code",
   "execution_count": 139,
   "metadata": {},
   "outputs": [
    {
     "name": "stdout",
     "output_type": "stream",
     "text": [
      "{}\n"
     ]
    }
   ],
   "source": [
    "d1 = dict()\n",
    "print(d1)"
   ]
  },
  {
   "cell_type": "code",
   "execution_count": 141,
   "metadata": {},
   "outputs": [
    {
     "name": "stdout",
     "output_type": "stream",
     "text": [
      "{'rose', 'jisoo', 'jennie', 'lisa'}\n"
     ]
    }
   ],
   "source": [
    "s1 = set(['jennie', 'lisa', 'rose', 'jisoo'])\n",
    "print(s1)"
   ]
  },
  {
   "cell_type": "code",
   "execution_count": 142,
   "metadata": {},
   "outputs": [
    {
     "name": "stdout",
     "output_type": "stream",
     "text": [
      "<class 'dict'>\n"
     ]
    }
   ],
   "source": [
    "t3 = {}\n",
    "print(type(t3))"
   ]
  },
  {
   "cell_type": "code",
   "execution_count": 143,
   "metadata": {},
   "outputs": [
    {
     "name": "stdout",
     "output_type": "stream",
     "text": [
      "{'name': '쵸파', 'age': 15, 'gen': '남자', 'job': '의사'}\n"
     ]
    }
   ],
   "source": [
    "d1 = {\n",
    "    'name':'쵸파',\n",
    "    'age': 15,\n",
    "    'gen': '남자',\n",
    "    'job': '의사',\n",
    "}\n",
    "print(d1)"
   ]
  },
  {
   "cell_type": "code",
   "execution_count": 149,
   "metadata": {},
   "outputs": [
    {
     "name": "stdout",
     "output_type": "stream",
     "text": [
      "['name', 'age', 'gen', 'job']\n"
     ]
    }
   ],
   "source": [
    "d_1 = list(d1)\n",
    "print(d_1)"
   ]
  },
  {
   "cell_type": "code",
   "execution_count": 162,
   "metadata": {},
   "outputs": [
    {
     "name": "stdout",
     "output_type": "stream",
     "text": [
      " name : 쵸파\n",
      "  age : 15\n",
      "  gen : 남자\n",
      "  job : 의사\n",
      " name :  쵸파\n",
      "  age :  15\n",
      "  gen :  남자\n",
      "  job :  의사\n"
     ]
    }
   ],
   "source": [
    "for k in d1:\n",
    "    print('{0:>5} : {1}'.format(k,d1[k]))\n",
    "for k in d1:\n",
    "    print('%5s : %3s' % (k, str(d1[k])))"
   ]
  },
  {
   "cell_type": "code",
   "execution_count": 156,
   "metadata": {},
   "outputs": [
    {
     "data": {
      "text/plain": [
       "'name'"
      ]
     },
     "execution_count": 156,
     "metadata": {},
     "output_type": "execute_result"
    }
   ],
   "source": [
    "d_1[0]"
   ]
  },
  {
   "cell_type": "code",
   "execution_count": 163,
   "metadata": {},
   "outputs": [
    {
     "name": "stdout",
     "output_type": "stream",
     "text": [
      "False\n"
     ]
    }
   ],
   "source": [
    "print('height' in d1)"
   ]
  },
  {
   "cell_type": "code",
   "execution_count": 164,
   "metadata": {},
   "outputs": [
    {
     "name": "stdout",
     "output_type": "stream",
     "text": [
      "True\n"
     ]
    }
   ],
   "source": [
    "print('age' in d1)"
   ]
  },
  {
   "cell_type": "code",
   "execution_count": 166,
   "metadata": {},
   "outputs": [
    {
     "name": "stdout",
     "output_type": "stream",
     "text": [
      "{'name': '쵸파', 'age': 15, 'gen': '남자', 'job': '의사', 'height': 91}\n"
     ]
    }
   ],
   "source": [
    "# 데이터 추가하는 방법\n",
    "d1['height'] = 91\n",
    "print(d1)"
   ]
  },
  {
   "cell_type": "code",
   "execution_count": 167,
   "metadata": {},
   "outputs": [
    {
     "data": {
      "text/plain": [
       "dict_keys(['name', 'age', 'gen', 'job', 'height'])"
      ]
     },
     "execution_count": 167,
     "metadata": {},
     "output_type": "execute_result"
    }
   ],
   "source": [
    "d1.keys()"
   ]
  },
  {
   "cell_type": "code",
   "execution_count": 172,
   "metadata": {},
   "outputs": [
    {
     "name": "stdout",
     "output_type": "stream",
     "text": [
      "dict_keys(['name', 'age', 'gen', 'job', 'height']) : dict_values(['쵸파', 15, '남자', '의사', 91])\n",
      "it1 : dict_items([('name', '쵸파'), ('age', 15), ('gen', '남자'), ('job', '의사'), ('height', 91)])\n",
      "[('name', '쵸파'), ('age', 15), ('gen', '남자'), ('job', '의사'), ('height', 91)]\n"
     ]
    }
   ],
   "source": [
    "k1 = d1.keys()\n",
    "v1 = d1.values()\n",
    "print(k1, ':', v1)\n",
    "it1 = d1.items()\n",
    "print('it1 :', it1)\n",
    "print(list(it1))"
   ]
  },
  {
   "cell_type": "code",
   "execution_count": 173,
   "metadata": {},
   "outputs": [
    {
     "name": "stdout",
     "output_type": "stream",
     "text": [
      "name : 쵸파\n",
      "[('name', '쵸파'), ('age', 15), ('gen', '남자'), ('job', '의사'), ('height', 91)]\n"
     ]
    }
   ],
   "source": [
    "k2 = list(k1)\n",
    "v2 = list(v1)\n",
    "print(k2[0] , ':', v2[0])\n",
    "it2 = list(it1)\n",
    "print(it2)"
   ]
  },
  {
   "cell_type": "code",
   "execution_count": 181,
   "metadata": {},
   "outputs": [
    {
     "name": "stdout",
     "output_type": "stream",
     "text": [
      "  name : 쵸파\n",
      "   age : 15\n",
      "   gen : 남자\n",
      "   job : 의사\n",
      "height : 91\n"
     ]
    }
   ],
   "source": [
    "for it in it2:\n",
    "    print('{0:>6} : {1}'.format(it[0],str(it[1])))"
   ]
  },
  {
   "cell_type": "code",
   "execution_count": 183,
   "metadata": {},
   "outputs": [
    {
     "name": "stdout",
     "output_type": "stream",
     "text": [
      "l2 type : <class 'list'>\n",
      "tpl type : <class 'tuple'>\n",
      "d2 type : <class 'dict'>\n"
     ]
    }
   ],
   "source": [
    "# 비어있는 자료구조 제이터 만들기\n",
    "l2 = []\n",
    "tpl = ()\n",
    "d2 = {}\n",
    "print('l2 type :', type(l2))\n",
    "print('tpl type :', type(tpl))\n",
    "print('d2 type :', type(d2))"
   ]
  },
  {
   "cell_type": "code",
   "execution_count": 184,
   "metadata": {},
   "outputs": [
    {
     "name": "stdout",
     "output_type": "stream",
     "text": [
      "l3 type : <class 'list'>\n",
      "tpl1 type : <class 'tuple'>\n",
      "d3 type : <class 'dict'>\n"
     ]
    }
   ],
   "source": [
    "l3 = list()\n",
    "tpl1 = tuple()\n",
    "d3 = dict()\n",
    "print('l3 type :', type(l3))\n",
    "print('tpl1 type :', type(tpl1))\n",
    "print('d3 type :', type(d3))"
   ]
  },
  {
   "cell_type": "code",
   "execution_count": 186,
   "metadata": {},
   "outputs": [
    {
     "name": "stdout",
     "output_type": "stream",
     "text": [
      "리스트입니다.\n"
     ]
    }
   ],
   "source": [
    "if (type(l3) == type([])):\n",
    "    print('리스트입니다.')\n"
   ]
  },
  {
   "cell_type": "code",
   "execution_count": 187,
   "metadata": {},
   "outputs": [
    {
     "name": "stdout",
     "output_type": "stream",
     "text": [
      "튜플입니다.\n"
     ]
    }
   ],
   "source": [
    "if (type(tpl1) == type(())):\n",
    "    print('튜플입니다.')\n"
   ]
  },
  {
   "cell_type": "code",
   "execution_count": 188,
   "metadata": {},
   "outputs": [
    {
     "name": "stdout",
     "output_type": "stream",
     "text": [
      "dict입니다.\n"
     ]
    }
   ],
   "source": [
    "if (type(d3) == type({})):\n",
    "    print('dict입니다.')\n"
   ]
  },
  {
   "cell_type": "code",
   "execution_count": null,
   "metadata": {},
   "outputs": [],
   "source": []
  }
 ],
 "metadata": {
  "kernelspec": {
   "display_name": "py310",
   "language": "python",
   "name": "python3"
  },
  "language_info": {
   "codemirror_mode": {
    "name": "ipython",
    "version": 3
   },
   "file_extension": ".py",
   "mimetype": "text/x-python",
   "name": "python",
   "nbconvert_exporter": "python",
   "pygments_lexer": "ipython3",
   "version": "3.10.13"
  }
 },
 "nbformat": 4,
 "nbformat_minor": 2
}
