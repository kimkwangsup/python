{
 "cells": [
  {
   "cell_type": "markdown",
   "metadata": {},
   "source": [
    "### * 별찍기\n",
    "\n",
    "<pre>\n",
    "0. \n",
    "*****\n",
    "*****\n",
    "*****\n",
    "*****\n",
    "*****\n",
    "\n",
    "1. \n",
    "*\n",
    "**\n",
    "***\n",
    "****\n",
    "*****\n",
    "\n",
    "2.\n",
    "    *\n",
    "   **\n",
    "  ***\n",
    " ****\n",
    "*****\n",
    "\n",
    "3.\n",
    "*****\n",
    "****\n",
    "***\n",
    "**\n",
    "*\n",
    "\n",
    "4.\n",
    "*****\n",
    " ****\n",
    "  ***\n",
    "   **\n",
    "    *\n",
    "</pre>"
   ]
  },
  {
   "cell_type": "markdown",
   "metadata": {},
   "source": [
    "#### 구구단\n",
    "\n",
    "<pre>\n",
    "    2 x 1  = 2\n",
    "    2 x 2  = 4\n",
    "    ...\n",
    "    2 x 9  = 18\n",
    "\n",
    "    3 x 1  = 3\n",
    "    3 x 2  = 6\n",
    "    ...\n",
    "\n",
    "    9 x 1  = 9\n",
    "\n",
    "</pre>"
   ]
  },
  {
   "cell_type": "markdown",
   "metadata": {},
   "source": [
    "<pre>\n",
    "    2 x 1  = 2      3 x 1 = 3       4 x 1 = 4       5 x 1 = 5\n",
    "    2 x 2  = 4      3 x 2 = 6       4 x 2 = 8       5 x 2 = 10\n",
    "    ...\n",
    "    2 x 9  = 18     3 x 9 = 27      4 x 9 = 36      5 x 9 = 45\n",
    "    \n",
    "    6 x 1  = 6      7 x 1 = 7       8 x 1 = 8       9 x 1 = 9\n",
    "    6 x 2  = 12     7 x 2 = 14      8 x 2 = 16      9 x 2 = 18\n",
    "    ...\n",
    "    6 x 9  = 54     7 x 9 = 63      8 x 9 = 72      9 x 9 = 81\n",
    "\n",
    "</pre>"
   ]
  },
  {
   "cell_type": "markdown",
   "metadata": {},
   "source": [
    "<pre>\n",
    "과제 : 주말과제로 작성한 후 클래스룸에 업로드하세요.\n",
    "\n",
    "    1. 3 ~ 100 사이의 정수를 입력한 후\n",
    "        그 수가 소수인지 판별해주는 프로그램을 작성하세요.\n",
    "\n",
    "    2. don = [ 1, 10, 50, 100, 500, 1000, 5000, 10000, 50000]\n",
    "        위 리스트를 이용해서 \n",
    "        73862원을 지불할 때 각 화폐단위가 몇개씩 필요한지 출력하세요.\n",
    "\n",
    "    3. 두자리 정수 두개를 입력받아서\n",
    "        두 수의 최대공약수를 출력해주는 프로그램을 작성하세요.\n",
    "\n",
    "    4. \n",
    "        1 2 3 4 5\n",
    "        1 2 3 4 5\n",
    "        1 2 3 4 5\n",
    "        1 2 3 4 5\n",
    "        1 2 3 4 5\n",
    "\n",
    "    5.\n",
    "        1 1 1 1 1\n",
    "        2 2 2 2 2\n",
    "        3 3 3 3 3\n",
    "        4 4 4 4 4\n",
    "        5 5 5 5 5\n",
    "\n",
    "    6.\n",
    "        1 2 3 4 5 \n",
    "        2 3 4 5 6\n",
    "        3 4 5 6 7\n",
    "        4 5 6 7 8\n",
    "        5 6 7 8 9\n",
    "    \n",
    "    7.\n",
    "        5 5 5 5 5 \n",
    "        4 4 4 4 4\n",
    "        3 3 3 3 3\n",
    "        2 2 2 2 2\n",
    "        1 1 1 1 1\n",
    "\n",
    "    8.\n",
    "         1  2  3  4  5 \n",
    "         6  7  8  9 10\n",
    "        11 12 13 14 15\n",
    "        16 17 18 19 20\n",
    "        21 22 23 24 25\n",
    "\n",
    "    extra :\n",
    "        피보나치 수열의 수 10개를 기억하는 리스트를 완성하세요...\n",
    "\n",
    "        참고 :\n",
    "            피보나치 수열 : 이전 두개의 수를 더해서 만들어진 수들의 배열\n",
    "\n",
    "            1, 1, (1 + 1), (1 + (1 + 1)), ...\n",
    "</pre>"
   ]
  },
  {
   "cell_type": "code",
   "execution_count": 7,
   "metadata": {},
   "outputs": [
    {
     "name": "stdout",
     "output_type": "stream",
     "text": [
      "*****\n",
      "*****\n",
      "*****\n",
      "*****\n",
      "*****\n"
     ]
    }
   ],
   "source": [
    "# 0.\n",
    "for i in range(5):\n",
    "    ch= ' '\n",
    "    for j in range(5):\n",
    "            ch = '*'\n",
    "            print(ch,end='')\n",
    "    print()"
   ]
  },
  {
   "cell_type": "code",
   "execution_count": null,
   "metadata": {},
   "outputs": [
    {
     "name": "stdout",
     "output_type": "stream",
     "text": [
      "*****\n",
      "*****\n",
      "*****\n",
      "*****\n",
      "*****\n"
     ]
    }
   ],
   "source": [
    "# 0.\n",
    "\n",
    "for i in range(5):\n",
    "    ch= ' '\n",
    "    for j in range(5):\n",
    "            ch = '*'\n",
    "            print(ch,end='')\n",
    "    print()"
   ]
  },
  {
   "cell_type": "code",
   "execution_count": 66,
   "metadata": {},
   "outputs": [
    {
     "name": "stdout",
     "output_type": "stream",
     "text": [
      "*    \n",
      "**   \n",
      "***  \n",
      "**** \n",
      "*****\n"
     ]
    }
   ],
   "source": [
    "# 1.\n",
    "star = range(1,6)\n",
    "for i in range(1,6):\n",
    "    for j in range(1,6):\n",
    "        if(i < j):\n",
    "            print(' ',end='')\n",
    "        else:\n",
    "            print('*',end='')\n",
    "    print()"
   ]
  },
  {
   "cell_type": "code",
   "execution_count": 69,
   "metadata": {},
   "outputs": [
    {
     "name": "stdout",
     "output_type": "stream",
     "text": [
      "    *\n",
      "   **\n",
      "  ***\n",
      " ****\n",
      "*****\n"
     ]
    }
   ],
   "source": [
    "# 2.\n",
    "for i in range(1,6):\n",
    "    ch= ' '\n",
    "    for j in range(1,6):\n",
    "            if(j > 5-i):\n",
    "                ch = '*'\n",
    "            print(ch,end='')\n",
    "    print()"
   ]
  },
  {
   "cell_type": "code",
   "execution_count": 72,
   "metadata": {},
   "outputs": [
    {
     "name": "stdout",
     "output_type": "stream",
     "text": [
      "*****\n",
      "**** \n",
      "***  \n",
      "**   \n",
      "*    \n"
     ]
    }
   ],
   "source": [
    "# 3.\n",
    "for i in range(1,6):\n",
    "    ch= '*'\n",
    "    for j in range(1,6):\n",
    "        if(j > 6-i):\n",
    "            ch = ' '\n",
    "        print(ch,end='')\n",
    "    print()"
   ]
  },
  {
   "cell_type": "code",
   "execution_count": 58,
   "metadata": {},
   "outputs": [
    {
     "name": "stdout",
     "output_type": "stream",
     "text": [
      "*****\n",
      " ****\n",
      "  ***\n",
      "   **\n",
      "    *\n"
     ]
    }
   ],
   "source": [
    "# 4. \n",
    "for i in star:\n",
    "    for j in range(1, 6):\n",
    "        if(i <= j):\n",
    "            print('*',end='')\n",
    "        else:\n",
    "            print(' ',end='')\n",
    "    print()"
   ]
  },
  {
   "cell_type": "code",
   "execution_count": 31,
   "metadata": {},
   "outputs": [
    {
     "name": "stdout",
     "output_type": "stream",
     "text": [
      "2 x 1 = 2\t3 x 1 = 3\t4 x 1 = 4\t5 x 1 = 5\t6 x 1 = 6\t\n",
      "2 x 2 = 4\t3 x 2 = 6\t4 x 2 = 8\t5 x 2 = 10\t6 x 2 = 12\t\n",
      "2 x 3 = 6\t3 x 3 = 9\t4 x 3 = 12\t5 x 3 = 15\t6 x 3 = 18\t\n",
      "2 x 4 = 8\t3 x 4 = 12\t4 x 4 = 16\t5 x 4 = 20\t6 x 4 = 24\t\n",
      "2 x 5 = 10\t3 x 5 = 15\t4 x 5 = 20\t5 x 5 = 25\t6 x 5 = 30\t\n",
      "2 x 6 = 12\t3 x 6 = 18\t4 x 6 = 24\t5 x 6 = 30\t6 x 6 = 36\t\n",
      "2 x 7 = 14\t3 x 7 = 21\t4 x 7 = 28\t5 x 7 = 35\t6 x 7 = 42\t\n",
      "2 x 8 = 16\t3 x 8 = 24\t4 x 8 = 32\t5 x 8 = 40\t6 x 8 = 48\t\n",
      "2 x 9 = 18\t3 x 9 = 27\t4 x 9 = 36\t5 x 9 = 45\t6 x 9 = 54\t\n",
      "\n",
      "7 x 1 = 7\t8 x 1 = 8\t9 x 1 = 9\t\n",
      "7 x 2 = 14\t8 x 2 = 16\t9 x 2 = 18\t\n",
      "7 x 3 = 21\t8 x 3 = 24\t9 x 3 = 27\t\n",
      "7 x 4 = 28\t8 x 4 = 32\t9 x 4 = 36\t\n",
      "7 x 5 = 35\t8 x 5 = 40\t9 x 5 = 45\t\n",
      "7 x 6 = 42\t8 x 6 = 48\t9 x 6 = 54\t\n",
      "7 x 7 = 49\t8 x 7 = 56\t9 x 7 = 63\t\n",
      "7 x 8 = 56\t8 x 8 = 64\t9 x 8 = 72\t\n",
      "7 x 9 = 63\t8 x 9 = 72\t9 x 9 = 81\t\n",
      "\n"
     ]
    }
   ],
   "source": [
    "# 구구단\n",
    "def abcc(cc):\n",
    "    for k in range(2,10,cc):\n",
    "        for j in range(1,10):\n",
    "            for i in range(cc):\n",
    "                dan = k + i\n",
    "                if(dan == 10):\n",
    "                    break\n",
    "                gop = j\n",
    "                print(dan,'x',gop,'=',dan*gop,end='\\t')\n",
    "            print()\n",
    "        print()\n",
    "soo = int(input('열 입력'))\n",
    "abcc(soo)"
   ]
  },
  {
   "cell_type": "code",
   "execution_count": 76,
   "metadata": {},
   "outputs": [
    {
     "name": "stdout",
     "output_type": "stream",
     "text": [
      "8 x 1 = 8\n",
      "8 x 2 = 16\n",
      "8 x 3 = 24\n",
      "8 x 4 = 32\n",
      "8 x 5 = 40\n",
      "8 x 6 = 48\n",
      "8 x 7 = 56\n",
      "8 x 8 = 64\n",
      "8 x 9 = 72\n"
     ]
    }
   ],
   "source": [
    "def dan(a):    \n",
    "    for i in range(1,10):\n",
    "        print(a, 'x', i,'=',a * i)\n",
    "coo = int(input('단 입력'))\n",
    "dan(coo)"
   ]
  },
  {
   "cell_type": "code",
   "execution_count": null,
   "metadata": {},
   "outputs": [],
   "source": [
    "# 1. 3~100 사이의 정수를 입력한 후\n",
    "#        그 수가 소수인지 판별해주는 프로그램을 작성하세요.(input)\n",
    "\n",
    "no = int(input('숫자입력'))\n",
    "\n",
    "result = ''\n",
    "for i in range(2,no):\n",
    "    if(no % 2 != 0):\n",
    "        result = '소수입니다'\n",
    "    else:\n",
    "        result = '소수가 아닙니다'\n",
    "print(result)\n"
   ]
  },
  {
   "cell_type": "code",
   "execution_count": null,
   "metadata": {},
   "outputs": [],
   "source": [
    "# 2. don = [ 1,10,50,100,500,1000,5000,10000,50000]\n",
    "#        위 리스트를 이용해서 \n",
    "#        73862원을 지불할 때 각 화폐 단위가 몇개씩 필요한지 출력하세요. // ㅁ곳\n",
    "mon = 73862\n",
    "donlist = []\n",
    "don = [1, 10, 50, 100, 500, 1000, 5000, 10000, 50000]\n",
    "for i in range(1,len(don)+1):\n",
    "    donlist.append(mon // don[len(don) - i])\n",
    "    mon = mon % don[len(don) - i]\n",
    "print(donlist)"
   ]
  },
  {
   "cell_type": "code",
   "execution_count": null,
   "metadata": {},
   "outputs": [],
   "source": [
    "# 3. 두 자리 정수 두개를 입력 받아서\n",
    "#        두 수의 최대공약수를 출력해주는 프로그램을 작성하세요.\n",
    "num1 = int(input('첫번째 정수입력'))\n",
    "num2 = int(input('두번째 정수입력'))\n",
    "num1 = num1 if num1 < num2 else num2\n",
    "max1 = 0\n",
    "for i in range(num1 + 1):\n",
    "    if(num1 % (num1 - i ) == 0 and num2 % (num1 - i)== 0):\n",
    "        max1 = num1-i\n",
    "        break\n",
    "print(max1)"
   ]
  },
  {
   "cell_type": "code",
   "execution_count": null,
   "metadata": {},
   "outputs": [],
   "source": [
    "#   4.  1 2 3 4 5\n",
    "#       1 2 3 4 5\n",
    "#       1 2 3 4 5\n",
    "#       1 2 3 4 5\n",
    "#       1 2 3 4 5\n",
    "\n",
    "for i in range(1,6):\n",
    "    for j in range(1,6):\n",
    "        print(j,end='')\n",
    "    print()"
   ]
  },
  {
   "cell_type": "code",
   "execution_count": null,
   "metadata": {},
   "outputs": [],
   "source": [
    "# 5.\n",
    "for i in range(1,6):\n",
    "    for j in range(1,6):\n",
    "        print(i,end='')\n",
    "    print()\n"
   ]
  },
  {
   "cell_type": "code",
   "execution_count": null,
   "metadata": {},
   "outputs": [],
   "source": [
    "# 6.\n",
    "for i in range(5):\n",
    "    for j in range(1,6):\n",
    "        print(i+j,end='')\n",
    "    print()"
   ]
  },
  {
   "cell_type": "code",
   "execution_count": 73,
   "metadata": {},
   "outputs": [
    {
     "name": "stdout",
     "output_type": "stream",
     "text": [
      "55555\n",
      "44444\n",
      "33333\n",
      "22222\n",
      "11111\n"
     ]
    }
   ],
   "source": [
    "# 7.\n",
    "for i in range(1,6):\n",
    "    for j in range(1,6):\n",
    "        print(6-i,end='')\n",
    "    print()"
   ]
  },
  {
   "cell_type": "code",
   "execution_count": 59,
   "metadata": {},
   "outputs": [
    {
     "name": "stdout",
     "output_type": "stream",
     "text": [
      "12345\n",
      "678910\n",
      "1112131415\n",
      "1617181920\n",
      "2122232425\n"
     ]
    }
   ],
   "source": [
    "# 8.\n",
    "for i in range(5):\n",
    "    for j in range(1,6):\n",
    "        print(5*i+j,end='')\n",
    "    print()"
   ]
  },
  {
   "cell_type": "code",
   "execution_count": null,
   "metadata": {},
   "outputs": [],
   "source": [
    "# extra :\n",
    "# 피보나치 수열의 수 10개를 기억하는 리스트를 완성하세요...\n",
    "\n",
    "# 참고 :\n",
    "#     피보나치 수열 : 이전 두개의 수를 더해서 만들어진 수들의 배열\n",
    "\n",
    "#     1, 1, (1 + 1), (1 + (1 + 1)), ...\n",
    "list1 = [1,1]\n",
    "for i in range(1,11):\n",
    "    list1.append(list1[i]+list1[i-1])\n",
    "list1"
   ]
  }
 ],
 "metadata": {
  "kernelspec": {
   "display_name": "py310",
   "language": "python",
   "name": "python3"
  },
  "language_info": {
   "codemirror_mode": {
    "name": "ipython",
    "version": 3
   },
   "file_extension": ".py",
   "mimetype": "text/x-python",
   "name": "python",
   "nbconvert_exporter": "python",
   "pygments_lexer": "ipython3",
   "version": "3.10.13"
  }
 },
 "nbformat": 4,
 "nbformat_minor": 2
}
