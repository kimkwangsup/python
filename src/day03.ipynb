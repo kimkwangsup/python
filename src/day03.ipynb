{
 "cells": [
  {
   "cell_type": "markdown",
   "metadata": {},
   "source": [
    "# day03"
   ]
  },
  {
   "cell_type": "code",
   "execution_count": 1,
   "metadata": {},
   "outputs": [
    {
     "data": {
      "text/plain": [
       "'2.10.0'"
      ]
     },
     "execution_count": 1,
     "metadata": {},
     "output_type": "execute_result"
    }
   ],
   "source": [
    "import tensorflow as tf\n",
    "tf.__version__"
   ]
  },
  {
   "cell_type": "code",
   "execution_count": 2,
   "metadata": {},
   "outputs": [
    {
     "name": "stdout",
     "output_type": "stream",
     "text": [
      "# packages in environment at C:\\Program Files\\anaconda3\\envs\\py310:\n",
      "#\n",
      "# Name                    Version                   Build  Channel\n",
      "_tflow_select             2.3.0                       mkl  \n",
      "abseil-cpp                20211102.0           hd77b12b_0  \n",
      "absl-py                   2.1.0           py310haa95532_0  \n",
      "aiohttp                   3.9.3           py310h2bbff1b_0  \n",
      "aiosignal                 1.2.0              pyhd3eb1b0_0  \n",
      "anyio                     4.2.0           py310haa95532_0  \n",
      "argon2-cffi               21.3.0             pyhd3eb1b0_0  \n",
      "argon2-cffi-bindings      21.2.0          py310h2bbff1b_0  \n",
      "asttokens                 2.0.5              pyhd3eb1b0_0  \n",
      "astunparse                1.6.3                      py_0  \n",
      "async-lru                 2.0.4           py310haa95532_0  \n",
      "async-timeout             4.0.3           py310haa95532_0  \n",
      "attrs                     23.1.0          py310haa95532_0  \n",
      "babel                     2.11.0          py310haa95532_0  \n",
      "beautifulsoup4            4.12.2          py310haa95532_0  \n",
      "blas                      1.0                         mkl  \n",
      "bleach                    4.1.0              pyhd3eb1b0_0  \n",
      "blinker                   1.6.2           py310haa95532_0  \n",
      "bottleneck                1.3.7           py310h9128911_0  \n",
      "brotli                    1.0.9                h2bbff1b_7  \n",
      "brotli-bin                1.0.9                h2bbff1b_7  \n",
      "brotli-python             1.0.9           py310hd77b12b_7  \n",
      "bzip2                     1.0.8                h2bbff1b_5  \n",
      "c-ares                    1.19.1               h2bbff1b_0  \n",
      "ca-certificates           2024.3.11            haa95532_0  \n",
      "cachetools                5.3.3           py310haa95532_0  \n",
      "certifi                   2024.2.2        py310haa95532_0  \n",
      "cffi                      1.16.0          py310h2bbff1b_0  \n",
      "charset-normalizer        2.0.4              pyhd3eb1b0_0  \n",
      "click                     8.1.7           py310haa95532_0  \n",
      "colorama                  0.4.6           py310haa95532_0  \n",
      "comm                      0.2.1           py310haa95532_0  \n",
      "contourpy                 1.2.0           py310h59b6b97_0  \n",
      "cryptography              41.0.3          py310h3438e0d_0  \n",
      "cycler                    0.11.0             pyhd3eb1b0_0  \n",
      "debugpy                   1.6.7           py310hd77b12b_0  \n",
      "decorator                 5.1.1              pyhd3eb1b0_0  \n",
      "defusedxml                0.7.1              pyhd3eb1b0_0  \n",
      "exceptiongroup            1.2.0           py310haa95532_0  \n",
      "executing                 0.8.3              pyhd3eb1b0_0  \n",
      "flatbuffers               2.0.0                h6c2663c_0  \n",
      "fonttools                 4.51.0          py310h2bbff1b_0  \n",
      "freetype                  2.12.1               ha860e81_0  \n",
      "frozenlist                1.4.0           py310h2bbff1b_0  \n",
      "gast                      0.4.0              pyhd3eb1b0_0  \n",
      "giflib                    5.2.1                h8cc25b3_3  \n",
      "google-auth               2.6.0              pyhd3eb1b0_0  \n",
      "google-auth-oauthlib      0.4.4              pyhd3eb1b0_0  \n",
      "google-pasta              0.2.0              pyhd3eb1b0_0  \n",
      "grpc-cpp                  1.48.2               hf108199_0  \n",
      "grpcio                    1.48.2          py310hf108199_0  \n",
      "h5py                      3.9.0           py310hfc34f40_0  \n",
      "hdf5                      1.12.1               h51c971a_3  \n",
      "icc_rt                    2022.1.0             h6049295_2  \n",
      "icu                       58.2                 ha925a31_3  \n",
      "idna                      3.4             py310haa95532_0  \n",
      "intel-openmp              2023.1.0         h59b6b97_46320  \n",
      "ipykernel                 6.28.0          py310haa95532_0  \n",
      "ipython                   8.20.0          py310haa95532_0  \n",
      "ipywidgets                8.1.2           py310haa95532_0  \n",
      "jedi                      0.18.1          py310haa95532_1  \n",
      "jinja2                    3.1.3           py310haa95532_0  \n",
      "joblib                    1.4.0           py310haa95532_0  \n",
      "jpeg                      9e                   h2bbff1b_1  \n",
      "json5                     0.9.6              pyhd3eb1b0_0  \n",
      "jsonschema                4.19.2          py310haa95532_0  \n",
      "jsonschema-specifications 2023.7.1        py310haa95532_0  \n",
      "jupyter                   1.0.0           py310haa95532_9  \n",
      "jupyter-lsp               2.2.0           py310haa95532_0  \n",
      "jupyter_client            8.6.0           py310haa95532_0  \n",
      "jupyter_console           6.6.3           py310haa95532_0  \n",
      "jupyter_core              5.5.0           py310haa95532_0  \n",
      "jupyter_events            0.8.0           py310haa95532_0  \n",
      "jupyter_server            2.10.0          py310haa95532_0  \n",
      "jupyter_server_terminals  0.4.4           py310haa95532_1  \n",
      "jupyterlab                4.0.11          py310haa95532_0  \n",
      "jupyterlab_pygments       0.1.2                      py_0  \n",
      "jupyterlab_server         2.25.1          py310haa95532_0  \n",
      "jupyterlab_widgets        3.0.10          py310haa95532_0  \n",
      "keras                     2.10.0          py310haa95532_0  \n",
      "keras-preprocessing       1.1.2              pyhd3eb1b0_0  \n",
      "kiwisolver                1.4.4           py310hd77b12b_0  \n",
      "krb5                      1.20.1               h5b6d351_1  \n",
      "lerc                      3.0                  hd77b12b_0  \n",
      "libbrotlicommon           1.0.9                h2bbff1b_7  \n",
      "libbrotlidec              1.0.9                h2bbff1b_7  \n",
      "libbrotlienc              1.0.9                h2bbff1b_7  \n",
      "libclang                  14.0.6          default_hb5a9fac_1  \n",
      "libclang13                14.0.6          default_h8e68704_1  \n",
      "libcurl                   8.5.0                h86230a5_0  \n",
      "libdeflate                1.17                 h2bbff1b_1  \n",
      "libffi                    3.4.4                hd77b12b_0  \n",
      "libpng                    1.6.39               h8cc25b3_0  \n",
      "libpq                     12.15                hb652d5d_1  \n",
      "libprotobuf               3.20.3               h23ce68f_0  \n",
      "libsodium                 1.0.18               h62dcd97_0  \n",
      "libssh2                   1.10.0               hcd4344a_2  \n",
      "libtiff                   4.5.1                hd77b12b_0  \n",
      "libwebp-base              1.3.2                h2bbff1b_0  \n",
      "lz4-c                     1.9.4                h2bbff1b_0  \n",
      "markdown                  3.4.1           py310haa95532_0  \n",
      "markupsafe                2.1.3           py310h2bbff1b_0  \n",
      "matplotlib                3.8.4           py310haa95532_0  \n",
      "matplotlib-base           3.8.4           py310h4ed8f06_0  \n",
      "matplotlib-inline         0.1.6           py310haa95532_0  \n",
      "mistune                   2.0.4           py310haa95532_0  \n",
      "mkl                       2023.1.0         h6b88ed4_46358  \n",
      "mkl-service               2.4.0           py310h2bbff1b_1  \n",
      "mkl_fft                   1.3.8           py310h2bbff1b_0  \n",
      "mkl_random                1.2.4           py310h59b6b97_0  \n",
      "multidict                 6.0.4           py310h2bbff1b_0  \n",
      "nbclient                  0.8.0           py310haa95532_0  \n",
      "nbconvert                 7.10.0          py310haa95532_0  \n",
      "nbformat                  5.9.2           py310haa95532_0  \n",
      "nest-asyncio              1.6.0           py310haa95532_0  \n",
      "notebook                  7.0.8           py310haa95532_0  \n",
      "notebook-shim             0.2.3           py310haa95532_0  \n",
      "numexpr                   2.8.7           py310h2cd9be0_0  \n",
      "numpy                     1.26.4          py310h055cbcc_0  \n",
      "numpy-base                1.26.4          py310h65a83cf_0  \n",
      "oauthlib                  3.2.2           py310haa95532_0  \n",
      "openjpeg                  2.4.0                h4fc8c34_0  \n",
      "openssl                   1.1.1w               h2bbff1b_0  \n",
      "opt_einsum                3.3.0              pyhd3eb1b0_1  \n",
      "overrides                 7.4.0           py310haa95532_0  \n",
      "packaging                 23.2            py310haa95532_0  \n",
      "pandas                    2.2.1           py310h5da7b33_0  \n",
      "pandocfilters             1.5.0              pyhd3eb1b0_0  \n",
      "parso                     0.8.3              pyhd3eb1b0_0  \n",
      "pillow                    10.2.0          py310h2bbff1b_0  \n",
      "pip                       24.0                     pypi_0    pypi\n",
      "platformdirs              3.10.0          py310haa95532_0  \n",
      "ply                       3.11            py310haa95532_0  \n",
      "prometheus_client         0.14.1          py310haa95532_0  \n",
      "prompt-toolkit            3.0.43          py310haa95532_0  \n",
      "prompt_toolkit            3.0.43               hd3eb1b0_0  \n",
      "protobuf                  3.20.3          py310hd77b12b_0  \n",
      "psutil                    5.9.0           py310h2bbff1b_0  \n",
      "pure_eval                 0.2.2              pyhd3eb1b0_0  \n",
      "pyasn1                    0.4.8              pyhd3eb1b0_0  \n",
      "pyasn1-modules            0.2.8                      py_0  \n",
      "pybind11-abi              5                    hd3eb1b0_0  \n",
      "pycparser                 2.21               pyhd3eb1b0_0  \n",
      "pygments                  2.15.1          py310haa95532_1  \n",
      "pyjwt                     2.4.0           py310haa95532_0  \n",
      "pyopenssl                 23.2.0          py310haa95532_0  \n",
      "pyparsing                 3.0.9           py310haa95532_0  \n",
      "pyqt                      5.15.10         py310hd77b12b_0  \n",
      "pyqt5-sip                 12.13.0         py310h2bbff1b_0  \n",
      "pysocks                   1.7.1           py310haa95532_0  \n",
      "python                    3.10.13              h966fe2a_0  \n",
      "python-dateutil           2.8.2              pyhd3eb1b0_0  \n",
      "python-fastjsonschema     2.16.2          py310haa95532_0  \n",
      "python-flatbuffers        2.0                pyhd3eb1b0_0  \n",
      "python-json-logger        2.0.7           py310haa95532_0  \n",
      "python-tzdata             2023.3             pyhd3eb1b0_0  \n",
      "pytz                      2024.1          py310haa95532_0  \n",
      "pywin32                   305             py310h2bbff1b_0  \n",
      "pywinpty                  2.0.10          py310h5da7b33_0  \n",
      "pyyaml                    6.0.1           py310h2bbff1b_0  \n",
      "pyzmq                     25.1.2          py310hd77b12b_0  \n",
      "qt-main                   5.15.2               h6072711_9  \n",
      "qtconsole                 5.5.1           py310haa95532_0  \n",
      "qtpy                      2.4.1           py310haa95532_0  \n",
      "re2                       2022.04.01           hd77b12b_0  \n",
      "referencing               0.30.2          py310haa95532_0  \n",
      "requests                  2.31.0          py310haa95532_1  \n",
      "requests-oauthlib         1.3.0                      py_0  \n",
      "rfc3339-validator         0.1.4           py310haa95532_0  \n",
      "rfc3986-validator         0.1.1           py310haa95532_0  \n",
      "rpds-py                   0.10.6          py310h062c2fa_0  \n",
      "rsa                       4.7.2              pyhd3eb1b0_1  \n",
      "scikit-learn              1.3.0           py310h4ed8f06_1  \n",
      "scipy                     1.13.0          py310h8640f81_0  \n",
      "send2trash                1.8.2           py310haa95532_0  \n",
      "setuptools                68.2.2          py310haa95532_0  \n",
      "sip                       6.7.12          py310hd77b12b_0  \n",
      "six                       1.16.0             pyhd3eb1b0_1  \n",
      "snappy                    1.1.10               h6c2663c_1  \n",
      "sniffio                   1.3.0           py310haa95532_0  \n",
      "soupsieve                 2.5             py310haa95532_0  \n",
      "sqlite                    3.41.2               h2bbff1b_0  \n",
      "stack_data                0.2.0              pyhd3eb1b0_0  \n",
      "tbb                       2021.8.0             h59b6b97_0  \n",
      "tensorboard               2.10.0          py310haa95532_0  \n",
      "tensorboard-data-server   0.6.1           py310haa95532_0  \n",
      "tensorboard-plugin-wit    1.8.1           py310haa95532_0  \n",
      "tensorflow                2.10.0          mkl_py310hd99672f_0  \n",
      "tensorflow-base           2.10.0          mkl_py310h6a7f48e_0  \n",
      "tensorflow-estimator      2.10.0          py310haa95532_0  \n",
      "termcolor                 2.1.0           py310haa95532_0  \n",
      "terminado                 0.17.1          py310haa95532_0  \n",
      "threadpoolctl             2.2.0              pyh0d69192_0  \n",
      "tinycss2                  1.2.1           py310haa95532_0  \n",
      "tk                        8.6.12               h2bbff1b_0  \n",
      "tomli                     2.0.1           py310haa95532_0  \n",
      "tornado                   6.3.3           py310h2bbff1b_0  \n",
      "traitlets                 5.7.1           py310haa95532_0  \n",
      "typing-extensions         4.9.0           py310haa95532_1  \n",
      "typing_extensions         4.9.0           py310haa95532_1  \n",
      "tzdata                    2024a                h04d1e81_0  \n",
      "unicodedata2              15.1.0          py310h2bbff1b_0  \n",
      "urllib3                   2.1.0           py310haa95532_1  \n",
      "vc                        14.2                 h21ff451_1  \n",
      "vs2015_runtime            14.27.29016          h5e58377_2  \n",
      "wcwidth                   0.2.5              pyhd3eb1b0_0  \n",
      "webencodings              0.5.1           py310haa95532_1  \n",
      "websocket-client          0.58.0          py310haa95532_4  \n",
      "werkzeug                  2.3.8           py310haa95532_0  \n",
      "wheel                     0.41.2          py310haa95532_0  \n",
      "widgetsnbextension        4.0.10          py310haa95532_0  \n",
      "win_inet_pton             1.1.0           py310haa95532_0  \n",
      "winpty                    0.4.3                         4  \n",
      "wrapt                     1.14.1          py310h2bbff1b_0  \n",
      "xz                        5.4.6                h8cc25b3_0  \n",
      "yaml                      0.2.5                he774522_0  \n",
      "yarl                      1.9.3           py310h2bbff1b_0  \n",
      "zeromq                    4.3.5                hd77b12b_0  \n",
      "zlib                      1.2.13               h8cc25b3_0  \n",
      "zstd                      1.5.5                hd43e919_0  \n"
     ]
    }
   ],
   "source": [
    "!conda list"
   ]
  },
  {
   "cell_type": "code",
   "execution_count": 3,
   "metadata": {},
   "outputs": [
    {
     "data": {
      "text/plain": [
       "'\\x11'"
      ]
     },
     "execution_count": 3,
     "metadata": {},
     "output_type": "execute_result"
    }
   ],
   "source": [
    "chr(17)"
   ]
  },
  {
   "cell_type": "code",
   "execution_count": 4,
   "metadata": {},
   "outputs": [
    {
     "data": {
      "text/plain": [
       "'\\x01'"
      ]
     },
     "execution_count": 4,
     "metadata": {},
     "output_type": "execute_result"
    }
   ],
   "source": [
    "chr(1)"
   ]
  },
  {
   "cell_type": "code",
   "execution_count": 5,
   "metadata": {},
   "outputs": [
    {
     "name": "stdout",
     "output_type": "stream",
     "text": [
      "A\n"
     ]
    }
   ],
   "source": [
    "print(chr(65))"
   ]
  },
  {
   "cell_type": "code",
   "execution_count": 6,
   "metadata": {},
   "outputs": [
    {
     "name": "stdout",
     "output_type": "stream",
     "text": [
      "a\n"
     ]
    }
   ],
   "source": [
    "print(chr(97))"
   ]
  },
  {
   "cell_type": "code",
   "execution_count": 7,
   "metadata": {},
   "outputs": [
    {
     "data": {
      "text/plain": [
       "'123'"
      ]
     },
     "execution_count": 7,
     "metadata": {},
     "output_type": "execute_result"
    }
   ],
   "source": [
    "str(123)"
   ]
  },
  {
   "cell_type": "code",
   "execution_count": 14,
   "metadata": {},
   "outputs": [
    {
     "name": "stdout",
     "output_type": "stream",
     "text": [
      "<class 'NoneType'>\n",
      "<class 'str'>\n",
      "<class 'int'>\n",
      "<class 'str'>\n",
      "<class 'int'>\n"
     ]
    }
   ],
   "source": [
    "no = None\n",
    "print(type(no))\n",
    "no='None'\n",
    "print(type(no))\n",
    "\n",
    "no = 123\n",
    "print(type(no))\n",
    "\n",
    "no = str(no)\n",
    "print(type(no))\n",
    "\n",
    "no = int(no)\n",
    "print(type(no))"
   ]
  },
  {
   "cell_type": "code",
   "execution_count": 18,
   "metadata": {},
   "outputs": [
    {
     "name": "stdout",
     "output_type": "stream",
     "text": [
      "점심 먹고 합시다.\n"
     ]
    }
   ],
   "source": [
    "msg = '점심 먹고 합시다.'\n",
    "print(msg)\n",
    "\n",
    "del msg\n",
    "del no\n",
    "#print(msg)"
   ]
  },
  {
   "cell_type": "code",
   "execution_count": 20,
   "metadata": {},
   "outputs": [],
   "source": [
    "member = \"\"\"\n",
    "    jennie,\n",
    "    lisa,\n",
    "    rose,\n",
    "    jsoo\n",
    "\"\"\""
   ]
  },
  {
   "cell_type": "code",
   "execution_count": 24,
   "metadata": {},
   "outputs": [
    {
     "name": "stdout",
     "output_type": "stream",
     "text": [
      "\n",
      "    jennie,\n",
      "    lisa,\n",
      "    rose,\n",
      "    jsoo\n",
      "\n",
      "\n",
      "jennie,\n",
      "lisa,\n",
      "rose,\n",
      "jisoo\n",
      "\n"
     ]
    }
   ],
   "source": [
    "# 여러행의 데이터를 변수에 기억시키는 방법\n",
    "# # 은 해당 행의 # 문자 이후 부분을 주석처리하는 기호\n",
    "print(member)\n",
    "bp = '''\n",
    "jennie,\n",
    "lisa,\n",
    "rose,\n",
    "jisoo\n",
    "'''\n",
    "print(bp)"
   ]
  },
  {
   "cell_type": "code",
   "execution_count": 25,
   "metadata": {},
   "outputs": [
    {
     "data": {
      "text/plain": [
       "'\\n    이것은 주석 문법은 아니고 \\n    문자열 표현 방법인데\\n    다중행 주석처리로 사용될 수 있다.\\n'"
      ]
     },
     "execution_count": 25,
     "metadata": {},
     "output_type": "execute_result"
    }
   ],
   "source": [
    "'''\n",
    "    이것은 주석 문법은 아니고 \n",
    "    문자열 표현 방법인데\n",
    "    다중행 주석처리로 사용될 수 있다.\n",
    "'''"
   ]
  },
  {
   "cell_type": "code",
   "execution_count": 28,
   "metadata": {},
   "outputs": [
    {
     "name": "stdout",
     "output_type": "stream",
     "text": [
      "bunho : 10\n"
     ]
    }
   ],
   "source": [
    "bunho = 10\n",
    "soo = 20\n",
    "if(bunho != 0) and (bunho < soo):\n",
    "    print('bunho :',bunho)"
   ]
  },
  {
   "cell_type": "code",
   "execution_count": 30,
   "metadata": {},
   "outputs": [
    {
     "name": "stdout",
     "output_type": "stream",
     "text": [
      "100 10\n"
     ]
    }
   ],
   "source": [
    "no1 = 10; no2 = 100\n",
    "tmp = no1\n",
    "no1 = no2\n",
    "no2 = tmp\n",
    "print(no1, no2)"
   ]
  },
  {
   "cell_type": "code",
   "execution_count": 34,
   "metadata": {},
   "outputs": [
    {
     "name": "stdout",
     "output_type": "stream",
     "text": [
      "num1 : 10\n",
      "num2 : 100\n",
      "num3 : 1000\n",
      "\n",
      "num1 : 100\n",
      "num2 : 1000\n",
      "num3 : 10\n"
     ]
    }
   ],
   "source": [
    "num1 = 10\n",
    "num2 = 100\n",
    "num3 = 1000\n",
    "print('num1 :',num1)\n",
    "print('num2 :',num2)\n",
    "print('num3 :',num3)\n",
    "print()\n",
    "num1, num2, num3 = num2, num3, num1\n",
    "print('num1 :',num1)\n",
    "print('num2 :',num2)\n",
    "print('num3 :',num3)"
   ]
  },
  {
   "cell_type": "code",
   "execution_count": 37,
   "metadata": {},
   "outputs": [
    {
     "name": "stdout",
     "output_type": "stream",
     "text": [
      "num1 : 110 num2 : 110 num3 : 10\n"
     ]
    }
   ],
   "source": [
    "num1 = num2 = num3 + 100\n",
    "print('num1 :',num1, 'num2 :',num2,'num3 :',num3)"
   ]
  },
  {
   "cell_type": "code",
   "execution_count": 39,
   "metadata": {},
   "outputs": [
    {
     "data": {
      "text/plain": [
       "3.3333333333333335"
      ]
     },
     "execution_count": 39,
     "metadata": {},
     "output_type": "execute_result"
    }
   ],
   "source": [
    "10/3"
   ]
  },
  {
   "cell_type": "code",
   "execution_count": 40,
   "metadata": {},
   "outputs": [
    {
     "data": {
      "text/plain": [
       "3"
      ]
     },
     "execution_count": 40,
     "metadata": {},
     "output_type": "execute_result"
    }
   ],
   "source": [
    "10 //3"
   ]
  },
  {
   "cell_type": "code",
   "execution_count": 41,
   "metadata": {},
   "outputs": [
    {
     "data": {
      "text/plain": [
       "1000"
      ]
     },
     "execution_count": 41,
     "metadata": {},
     "output_type": "execute_result"
    }
   ],
   "source": [
    "10 ** 3"
   ]
  },
  {
   "cell_type": "code",
   "execution_count": 42,
   "metadata": {},
   "outputs": [
    {
     "data": {
      "text/plain": [
       "100000000000"
      ]
     },
     "execution_count": 42,
     "metadata": {},
     "output_type": "execute_result"
    }
   ],
   "source": [
    "10 ** 11"
   ]
  },
  {
   "cell_type": "code",
   "execution_count": 43,
   "metadata": {},
   "outputs": [
    {
     "data": {
      "text/plain": [
       "1000000000000000000000000000000000000000000000000000000000000000000000000000000000000000000000000000000000000000000000000000000000000000000000000000000000000000000000000000000000000000000000000000000000000000000000000000000000000000000000000000000000000000000000000000000000000000000000000000000000000000000000000000000000000000000000000000000000000000000000000000000000000000000000000000000000000000000000000000000000000000000000000000000000000000000000000000000000000000000000000000000000000000000000000000000000000000000000000000000000000000000000000000000000000000000000000000000000000000000000000000000000000000000000000000000000000000000000000000000000000000000000000000000000000000000000000000000000000000000000000000000000000000000000000000000000000000000000000000000000000000000000000000000000000000000000000000000000000000000000000000000000000000000000000000000000000000000000000000000000000000000000000000000000000000000000000000000000000000000000000000000000000000000000000000000000000000"
      ]
     },
     "execution_count": 43,
     "metadata": {},
     "output_type": "execute_result"
    }
   ],
   "source": [
    "10** 999"
   ]
  },
  {
   "cell_type": "code",
   "execution_count": 44,
   "metadata": {},
   "outputs": [
    {
     "data": {
      "text/plain": [
       "4951760157141521099596496896"
      ]
     },
     "execution_count": 44,
     "metadata": {},
     "output_type": "execute_result"
    }
   ],
   "source": [
    "2 ** 92"
   ]
  },
  {
   "cell_type": "code",
   "execution_count": 51,
   "metadata": {},
   "outputs": [
    {
     "name": "stdout",
     "output_type": "stream",
     "text": [
      "a : [1, 2, 3] b : [10, [1, 2, 3], 20] c : [[10, [1, 2, 3], 20], [1, 2, 3], 'x', 20] d : [[1, 2, 3], [10, [1, 2, 3], 20], [[10, [1, 2, 3], 20], [1, 2, 3], 'x', 20], <function abc at 0x000002AE963ACA60>]\n",
      "abc\n"
     ]
    }
   ],
   "source": [
    "a = [1,2,3]\n",
    "b = [10, a, 20]\n",
    "c = [b, a, 'x', 20]\n",
    "def abc():\n",
    "    print('abc')\n",
    "d = [a,b,c,abc]\n",
    "print('a :',a,'b :', b, 'c :', c, 'd :', d)\n",
    "d[3]()"
   ]
  },
  {
   "cell_type": "code",
   "execution_count": 52,
   "metadata": {},
   "outputs": [
    {
     "name": "stdout",
     "output_type": "stream",
     "text": [
      "[1, 1000, 3]\n",
      "[10, [1, 1000, 3], 20]\n",
      "[[10, [1, 1000, 3], 20], [1, 1000, 3], 'x', 20]\n"
     ]
    }
   ],
   "source": [
    "a[1] = 1000\n",
    "print(a)\n",
    "print(b)\n",
    "print(c)"
   ]
  },
  {
   "cell_type": "code",
   "execution_count": 55,
   "metadata": {},
   "outputs": [
    {
     "name": "stdout",
     "output_type": "stream",
     "text": [
      "type no : <class 'int'> \n",
      " no : 15\n"
     ]
    }
   ],
   "source": [
    "# 콘솔 입력\n",
    "no = input(' 정수 입력 :')\n",
    "no = int(no)\n",
    "print('type no :',type(no), '\\n no :', no)"
   ]
  },
  {
   "cell_type": "code",
   "execution_count": 56,
   "metadata": {},
   "outputs": [
    {
     "name": "stdout",
     "output_type": "stream",
     "text": [
      "type no : <class 'int'> \n",
      " no : 7\n"
     ]
    }
   ],
   "source": [
    "no = int(input('정수입력 :'))\n",
    "print('type no :',type(no), '\\n no :', no)"
   ]
  },
  {
   "cell_type": "code",
   "execution_count": 61,
   "metadata": {},
   "outputs": [
    {
     "name": "stdout",
     "output_type": "stream",
     "text": [
      "a\n",
      "b\n",
      "c\n",
      "추울려역끄읏\n"
     ]
    }
   ],
   "source": [
    "print('a', 'b', 'c', sep='\\n', end='\\n추울려역끄읏\\n')"
   ]
  },
  {
   "cell_type": "code",
   "execution_count": 65,
   "metadata": {},
   "outputs": [
    {
     "name": "stdout",
     "output_type": "stream",
     "text": [
      "no : 7\n"
     ]
    }
   ],
   "source": [
    "print('no : ' + str(no))"
   ]
  },
  {
   "cell_type": "code",
   "execution_count": 66,
   "metadata": {},
   "outputs": [
    {
     "name": "stdout",
     "output_type": "stream",
     "text": [
      "    jennie -  28\n",
      "      lisa -  26\n",
      "      rose -  27\n",
      "     jisoo -  29\n",
      "\n"
     ]
    }
   ],
   "source": [
    "print('%10s - %3d\\n%10s - %3d\\n%10s - %3d\\n%10s - %3d\\n' % ('jennie', 28, 'lisa', 26, 'rose', 27, 'jisoo', 29))"
   ]
  },
  {
   "cell_type": "code",
   "execution_count": 70,
   "metadata": {},
   "outputs": [
    {
     "name": "stdout",
     "output_type": "stream",
     "text": [
      "4d2\n"
     ]
    }
   ],
   "source": [
    "print('%x' % 1234)"
   ]
  },
  {
   "cell_type": "code",
   "execution_count": 71,
   "metadata": {},
   "outputs": [
    {
     "name": "stdout",
     "output_type": "stream",
     "text": [
      " 3.14 %\n"
     ]
    }
   ],
   "source": [
    "print('%5.2f %%' % 3.14)"
   ]
  },
  {
   "cell_type": "code",
   "execution_count": 72,
   "metadata": {},
   "outputs": [
    {
     "name": "stdout",
     "output_type": "stream",
     "text": [
      "2 x 5 = 10\n"
     ]
    }
   ],
   "source": [
    "print('{2} x {1} = {0}'.format(10,5,2))"
   ]
  },
  {
   "cell_type": "code",
   "execution_count": 75,
   "metadata": {},
   "outputs": [
    {
     "name": "stdout",
     "output_type": "stream",
     "text": [
      "2\n"
     ]
    }
   ],
   "source": [
    "no = 1\n",
    "no += 1\n",
    "print(no)"
   ]
  },
  {
   "cell_type": "code",
   "execution_count": 78,
   "metadata": {},
   "outputs": [
    {
     "name": "stdout",
     "output_type": "stream",
     "text": [
      "2    x    5 =  10\n"
     ]
    }
   ],
   "source": [
    "# '{데이터인덱스:< 왼쪽정렬자릿수} {데이터인덱스:> 오른쪽정렬자릿수}'.format(데이터1, 데이터2, ...)\n",
    "print('{2:<5}x{1:>5} = {0:3}'.format(10,5,2))"
   ]
  },
  {
   "cell_type": "code",
   "execution_count": 80,
   "metadata": {},
   "outputs": [
    {
     "name": "stdout",
     "output_type": "stream",
     "text": [
      "1   :  10 :  10 :  10 :  10\n"
     ]
    }
   ],
   "source": [
    "# format() 함수에 나열된 데이터는 여러번 바복 사용 가능하다.\n",
    "print('{0:<3} : {1:>3} : {1:>3} : {1:>3} : {1:>3}'.format(1,10))"
   ]
  },
  {
   "cell_type": "code",
   "execution_count": 85,
   "metadata": {},
   "outputs": [
    {
     "name": "stdout",
     "output_type": "stream",
     "text": [
      "0x7b\n",
      "<class 'str'>\n",
      "123\n",
      "<class 'int'>\n"
     ]
    }
   ],
   "source": [
    "a = hex(123)\n",
    "print(a)\n",
    "print(type(a))\n",
    "b = int(a,16)\n",
    "print(b)\n",
    "print(type(b))"
   ]
  },
  {
   "cell_type": "code",
   "execution_count": 87,
   "metadata": {},
   "outputs": [
    {
     "name": "stdout",
     "output_type": "stream",
     "text": [
      "0o173\n",
      "123\n"
     ]
    }
   ],
   "source": [
    "# 8진수\n",
    "c = oct(123)\n",
    "print(c)\n",
    "\n",
    "# 10진수로 변환\n",
    "print(int(c,8))"
   ]
  },
  {
   "cell_type": "code",
   "execution_count": 88,
   "metadata": {},
   "outputs": [
    {
     "name": "stdout",
     "output_type": "stream",
     "text": [
      "0b1111011\n",
      "123\n"
     ]
    }
   ],
   "source": [
    "d = bin(123)\n",
    "print(d)\n",
    "print(int(d,2))"
   ]
  },
  {
   "cell_type": "code",
   "execution_count": 96,
   "metadata": {},
   "outputs": [
    {
     "name": "stdout",
     "output_type": "stream",
     "text": [
      "9223372036854775807\n",
      "<class 'int'>\n"
     ]
    }
   ],
   "source": [
    "import sys\n",
    "\n",
    "print(sys.maxsize)\n",
    "print(type(sys.maxsize))"
   ]
  },
  {
   "cell_type": "code",
   "execution_count": 97,
   "metadata": {},
   "outputs": [],
   "source": [
    "x=1\n",
    "x=2\n",
    "y=1"
   ]
  },
  {
   "cell_type": "code",
   "execution_count": 98,
   "metadata": {},
   "outputs": [
    {
     "data": {
      "text/plain": [
       "3"
      ]
     },
     "execution_count": 98,
     "metadata": {},
     "output_type": "execute_result"
    }
   ],
   "source": [
    "round(3.14)\n"
   ]
  },
  {
   "cell_type": "code",
   "execution_count": 100,
   "metadata": {},
   "outputs": [
    {
     "data": {
      "text/plain": [
       "-3"
      ]
     },
     "execution_count": 100,
     "metadata": {},
     "output_type": "execute_result"
    }
   ],
   "source": [
    "int(-3.54)"
   ]
  },
  {
   "cell_type": "code",
   "execution_count": 101,
   "metadata": {},
   "outputs": [
    {
     "data": {
      "text/plain": [
       "-4"
      ]
     },
     "execution_count": 101,
     "metadata": {},
     "output_type": "execute_result"
    }
   ],
   "source": [
    "round(-3.9)"
   ]
  },
  {
   "cell_type": "code",
   "execution_count": 102,
   "metadata": {},
   "outputs": [
    {
     "data": {
      "text/plain": [
       "3.0"
      ]
     },
     "execution_count": 102,
     "metadata": {},
     "output_type": "execute_result"
    }
   ],
   "source": [
    "float(3)"
   ]
  },
  {
   "cell_type": "code",
   "execution_count": 106,
   "metadata": {},
   "outputs": [],
   "source": [
    "a = complex(0,0)"
   ]
  },
  {
   "cell_type": "code",
   "execution_count": 107,
   "metadata": {},
   "outputs": [
    {
     "name": "stdout",
     "output_type": "stream",
     "text": [
      "<class 'complex'>\n"
     ]
    }
   ],
   "source": [
    "print(type(a))"
   ]
  },
  {
   "cell_type": "code",
   "execution_count": null,
   "metadata": {},
   "outputs": [],
   "source": []
  }
 ],
 "metadata": {
  "kernelspec": {
   "display_name": "py310",
   "language": "python",
   "name": "python3"
  },
  "language_info": {
   "codemirror_mode": {
    "name": "ipython",
    "version": 3
   },
   "file_extension": ".py",
   "mimetype": "text/x-python",
   "name": "python",
   "nbconvert_exporter": "python",
   "pygments_lexer": "ipython3",
   "version": "3.10.13"
  }
 },
 "nbformat": 4,
 "nbformat_minor": 2
}
