{
 "cells": [
  {
   "cell_type": "markdown",
   "metadata": {},
   "source": [
    "# day02\n",
    "<pre>\n",
    "    conda create -n py310 python=3.10.14\n",
    "    conda install numpy pandas matplotlib\n",
    "    conda install tensorflow\n",
    "    conda install jupyter\n",
    "</pre>"
   ]
  },
  {
   "cell_type": "markdown",
   "metadata": {},
   "source": [
    "<pre>\n",
    "anaconda 가상환경 추가하기\n",
    "    형식 ]\n",
    "        conda create -n 가상환경이름 python=버전\n",
    "    예 ]\n",
    "        conda create -n py310 python=3.10.14\n",
    "\n",
    "anaconda 가상환경 활성화하기\n",
    "    형식 ]\n",
    "        conda activate 가상환경이름\n",
    "\n",
    "anaconda 가상환경 비활성화하기\n",
    "    형식 ]\n",
    "        conda deactivate 가상환경이름\n",
    "    주의 ]\n",
    "        이 명령은 아나콘다 가상환경이 활성화 되어 있어야 가능한 명령\n",
    "\n",
    "라이브러리 설치하기\n",
    "    형식 ]\n",
    "        conda install 라이브러리이름 라이브러리이름 ... \n",
    "\n",
    "현재 가상환경의 라이브러리 모두 업그레이드 하기\n",
    "    형식 ]\n",
    "        conda upgrade --all\n",
    "</pre>"
   ]
  },
  {
   "cell_type": "markdown",
   "metadata": {},
   "source": [
    "### Jupyter cell 에서 cmd 명령 실행하기\n",
    "\n",
    "<pre>\n",
    "    형식 ]\n",
    "        !명령\n",
    "    예 ]    \n",
    "        !dir\n",
    "</pre>"
   ]
  },
  {
   "cell_type": "code",
   "execution_count": 6,
   "metadata": {},
   "outputs": [
    {
     "name": "stdout",
     "output_type": "stream",
     "text": [
      "Python 3.10.13\n"
     ]
    }
   ],
   "source": [
    "!python -V"
   ]
  },
  {
   "cell_type": "code",
   "execution_count": 7,
   "metadata": {},
   "outputs": [
    {
     "name": "stdout",
     "output_type": "stream",
     "text": [
      "Defaulting to user installation because normal site-packages is not writeable\n",
      "Collecting seaborn\n",
      "  Downloading seaborn-0.13.2-py3-none-any.whl.metadata (5.4 kB)\n",
      "Requirement already satisfied: numpy!=1.24.0,>=1.20 in c:\\program files\\anaconda3\\envs\\py310\\lib\\site-packages (from seaborn) (1.26.4)\n",
      "Requirement already satisfied: pandas>=1.2 in c:\\program files\\anaconda3\\envs\\py310\\lib\\site-packages (from seaborn) (2.2.1)\n",
      "Requirement already satisfied: matplotlib!=3.6.1,>=3.4 in c:\\program files\\anaconda3\\envs\\py310\\lib\\site-packages (from seaborn) (3.8.4)\n",
      "Requirement already satisfied: contourpy>=1.0.1 in c:\\program files\\anaconda3\\envs\\py310\\lib\\site-packages (from matplotlib!=3.6.1,>=3.4->seaborn) (1.2.0)\n",
      "Requirement already satisfied: cycler>=0.10 in c:\\program files\\anaconda3\\envs\\py310\\lib\\site-packages (from matplotlib!=3.6.1,>=3.4->seaborn) (0.11.0)\n",
      "Requirement already satisfied: fonttools>=4.22.0 in c:\\program files\\anaconda3\\envs\\py310\\lib\\site-packages (from matplotlib!=3.6.1,>=3.4->seaborn) (4.51.0)\n",
      "Requirement already satisfied: kiwisolver>=1.3.1 in c:\\program files\\anaconda3\\envs\\py310\\lib\\site-packages (from matplotlib!=3.6.1,>=3.4->seaborn) (1.4.4)\n",
      "Requirement already satisfied: packaging>=20.0 in c:\\program files\\anaconda3\\envs\\py310\\lib\\site-packages (from matplotlib!=3.6.1,>=3.4->seaborn) (23.2)\n",
      "Requirement already satisfied: pillow>=8 in c:\\program files\\anaconda3\\envs\\py310\\lib\\site-packages (from matplotlib!=3.6.1,>=3.4->seaborn) (10.2.0)\n",
      "Requirement already satisfied: pyparsing>=2.3.1 in c:\\program files\\anaconda3\\envs\\py310\\lib\\site-packages (from matplotlib!=3.6.1,>=3.4->seaborn) (3.0.9)\n",
      "Requirement already satisfied: python-dateutil>=2.7 in c:\\program files\\anaconda3\\envs\\py310\\lib\\site-packages (from matplotlib!=3.6.1,>=3.4->seaborn) (2.8.2)\n",
      "Requirement already satisfied: pytz>=2020.1 in c:\\program files\\anaconda3\\envs\\py310\\lib\\site-packages (from pandas>=1.2->seaborn) (2024.1)\n",
      "Requirement already satisfied: tzdata>=2022.7 in c:\\program files\\anaconda3\\envs\\py310\\lib\\site-packages (from pandas>=1.2->seaborn) (2023.3)\n",
      "Requirement already satisfied: six>=1.5 in c:\\program files\\anaconda3\\envs\\py310\\lib\\site-packages (from python-dateutil>=2.7->matplotlib!=3.6.1,>=3.4->seaborn) (1.16.0)\n",
      "Downloading seaborn-0.13.2-py3-none-any.whl (294 kB)\n",
      "   ---------------------------------------- 0.0/294.9 kB ? eta -:--:--\n",
      "   ---------------------------------------- 294.9/294.9 kB 8.9 MB/s eta 0:00:00\n",
      "Installing collected packages: seaborn\n",
      "Successfully installed seaborn-0.13.2\n"
     ]
    }
   ],
   "source": [
    "!python -m pip install seaborn"
   ]
  },
  {
   "cell_type": "code",
   "execution_count": 8,
   "metadata": {},
   "outputs": [
    {
     "name": "stdout",
     "output_type": "stream",
     "text": [
      "# packages in environment at C:\\Program Files\\anaconda3\\envs\\py310:\n",
      "#\n",
      "# Name                    Version                   Build  Channel\n",
      "_tflow_select             2.3.0                       mkl  \n",
      "abseil-cpp                20211102.0           hd77b12b_0  \n",
      "absl-py                   2.1.0           py310haa95532_0  \n",
      "aiohttp                   3.9.3           py310h2bbff1b_0  \n",
      "aiosignal                 1.2.0              pyhd3eb1b0_0  \n",
      "anyio                     4.2.0           py310haa95532_0  \n",
      "argon2-cffi               21.3.0             pyhd3eb1b0_0  \n",
      "argon2-cffi-bindings      21.2.0          py310h2bbff1b_0  \n",
      "asttokens                 2.0.5              pyhd3eb1b0_0  \n",
      "astunparse                1.6.3                      py_0  \n",
      "async-lru                 2.0.4           py310haa95532_0  \n",
      "async-timeout             4.0.3           py310haa95532_0  \n",
      "attrs                     23.1.0          py310haa95532_0  \n",
      "babel                     2.11.0          py310haa95532_0  \n",
      "beautifulsoup4            4.12.2          py310haa95532_0  \n",
      "blas                      1.0                         mkl  \n",
      "bleach                    4.1.0              pyhd3eb1b0_0  \n",
      "blinker                   1.6.2           py310haa95532_0  \n",
      "bottleneck                1.3.7           py310h9128911_0  \n",
      "brotli                    1.0.9                h2bbff1b_7  \n",
      "brotli-bin                1.0.9                h2bbff1b_7  \n",
      "brotli-python             1.0.9           py310hd77b12b_7  \n",
      "bzip2                     1.0.8                h2bbff1b_5  \n",
      "c-ares                    1.19.1               h2bbff1b_0  \n",
      "ca-certificates           2024.3.11            haa95532_0  \n",
      "cachetools                5.3.3           py310haa95532_0  \n",
      "certifi                   2024.2.2        py310haa95532_0  \n",
      "cffi                      1.16.0          py310h2bbff1b_0  \n",
      "charset-normalizer        2.0.4              pyhd3eb1b0_0  \n",
      "click                     8.1.7           py310haa95532_0  \n",
      "colorama                  0.4.6           py310haa95532_0  \n",
      "comm                      0.2.1           py310haa95532_0  \n",
      "contourpy                 1.2.0           py310h59b6b97_0  \n",
      "cryptography              41.0.3          py310h3438e0d_0  \n",
      "cycler                    0.11.0             pyhd3eb1b0_0  \n",
      "debugpy                   1.6.7           py310hd77b12b_0  \n",
      "decorator                 5.1.1              pyhd3eb1b0_0  \n",
      "defusedxml                0.7.1              pyhd3eb1b0_0  \n",
      "exceptiongroup            1.2.0           py310haa95532_0  \n",
      "executing                 0.8.3              pyhd3eb1b0_0  \n",
      "flatbuffers               2.0.0                h6c2663c_0  \n",
      "fonttools                 4.51.0          py310h2bbff1b_0  \n",
      "freetype                  2.12.1               ha860e81_0  \n",
      "frozenlist                1.4.0           py310h2bbff1b_0  \n",
      "gast                      0.4.0              pyhd3eb1b0_0  \n",
      "giflib                    5.2.1                h8cc25b3_3  \n",
      "google-auth               2.6.0              pyhd3eb1b0_0  \n",
      "google-auth-oauthlib      0.4.4              pyhd3eb1b0_0  \n",
      "google-pasta              0.2.0              pyhd3eb1b0_0  \n",
      "grpc-cpp                  1.48.2               hf108199_0  \n",
      "grpcio                    1.48.2          py310hf108199_0  \n",
      "h5py                      3.9.0           py310hfc34f40_0  \n",
      "hdf5                      1.12.1               h51c971a_3  \n",
      "icc_rt                    2022.1.0             h6049295_2  \n",
      "icu                       58.2                 ha925a31_3  \n",
      "idna                      3.4             py310haa95532_0  \n",
      "intel-openmp              2023.1.0         h59b6b97_46320  \n",
      "ipykernel                 6.28.0          py310haa95532_0  \n",
      "ipython                   8.20.0          py310haa95532_0  \n",
      "ipywidgets                8.1.2           py310haa95532_0  \n",
      "jedi                      0.18.1          py310haa95532_1  \n",
      "jinja2                    3.1.3           py310haa95532_0  \n",
      "jpeg                      9e                   h2bbff1b_1  \n",
      "json5                     0.9.6              pyhd3eb1b0_0  \n",
      "jsonschema                4.19.2          py310haa95532_0  \n",
      "jsonschema-specifications 2023.7.1        py310haa95532_0  \n",
      "jupyter                   1.0.0           py310haa95532_9  \n",
      "jupyter-lsp               2.2.0           py310haa95532_0  \n",
      "jupyter_client            8.6.0           py310haa95532_0  \n",
      "jupyter_console           6.6.3           py310haa95532_0  \n",
      "jupyter_core              5.5.0           py310haa95532_0  \n",
      "jupyter_events            0.8.0           py310haa95532_0  \n",
      "jupyter_server            2.10.0          py310haa95532_0  \n",
      "jupyter_server_terminals  0.4.4           py310haa95532_1  \n",
      "jupyterlab                4.0.11          py310haa95532_0  \n",
      "jupyterlab_pygments       0.1.2                      py_0  \n",
      "jupyterlab_server         2.25.1          py310haa95532_0  \n",
      "jupyterlab_widgets        3.0.10          py310haa95532_0  \n",
      "keras                     2.10.0          py310haa95532_0  \n",
      "keras-preprocessing       1.1.2              pyhd3eb1b0_0  \n",
      "kiwisolver                1.4.4           py310hd77b12b_0  \n",
      "krb5                      1.20.1               h5b6d351_1  \n",
      "lerc                      3.0                  hd77b12b_0  \n",
      "libbrotlicommon           1.0.9                h2bbff1b_7  \n",
      "libbrotlidec              1.0.9                h2bbff1b_7  \n",
      "libbrotlienc              1.0.9                h2bbff1b_7  \n",
      "libclang                  14.0.6          default_hb5a9fac_1  \n",
      "libclang13                14.0.6          default_h8e68704_1  \n",
      "libcurl                   8.5.0                h86230a5_0  \n",
      "libdeflate                1.17                 h2bbff1b_1  \n",
      "libffi                    3.4.4                hd77b12b_0  \n",
      "libpng                    1.6.39               h8cc25b3_0  \n",
      "libpq                     12.15                hb652d5d_1  \n",
      "libprotobuf               3.20.3               h23ce68f_0  \n",
      "libsodium                 1.0.18               h62dcd97_0  \n",
      "libssh2                   1.10.0               hcd4344a_2  \n",
      "libtiff                   4.5.1                hd77b12b_0  \n",
      "libwebp-base              1.3.2                h2bbff1b_0  \n",
      "lz4-c                     1.9.4                h2bbff1b_0  \n",
      "markdown                  3.4.1           py310haa95532_0  \n",
      "markupsafe                2.1.3           py310h2bbff1b_0  \n",
      "matplotlib                3.8.4           py310haa95532_0  \n",
      "matplotlib-base           3.8.4           py310h4ed8f06_0  \n",
      "matplotlib-inline         0.1.6           py310haa95532_0  \n",
      "mistune                   2.0.4           py310haa95532_0  \n",
      "mkl                       2023.1.0         h6b88ed4_46358  \n",
      "mkl-service               2.4.0           py310h2bbff1b_1  \n",
      "mkl_fft                   1.3.8           py310h2bbff1b_0  \n",
      "mkl_random                1.2.4           py310h59b6b97_0  \n",
      "multidict                 6.0.4           py310h2bbff1b_0  \n",
      "nbclient                  0.8.0           py310haa95532_0  \n",
      "nbconvert                 7.10.0          py310haa95532_0  \n",
      "nbformat                  5.9.2           py310haa95532_0  \n",
      "nest-asyncio              1.6.0           py310haa95532_0  \n",
      "notebook                  7.0.8           py310haa95532_0  \n",
      "notebook-shim             0.2.3           py310haa95532_0  \n",
      "numexpr                   2.8.7           py310h2cd9be0_0  \n",
      "numpy                     1.26.4          py310h055cbcc_0  \n",
      "numpy-base                1.26.4          py310h65a83cf_0  \n",
      "oauthlib                  3.2.2           py310haa95532_0  \n",
      "openjpeg                  2.4.0                h4fc8c34_0  \n",
      "openssl                   1.1.1w               h2bbff1b_0  \n",
      "opt_einsum                3.3.0              pyhd3eb1b0_1  \n",
      "overrides                 7.4.0           py310haa95532_0  \n",
      "packaging                 23.2            py310haa95532_0  \n",
      "pandas                    2.2.1           py310h5da7b33_0  \n",
      "pandocfilters             1.5.0              pyhd3eb1b0_0  \n",
      "parso                     0.8.3              pyhd3eb1b0_0  \n",
      "pillow                    10.2.0          py310h2bbff1b_0  \n",
      "pip                       24.0                     pypi_0    pypi\n",
      "platformdirs              3.10.0          py310haa95532_0  \n",
      "ply                       3.11            py310haa95532_0  \n",
      "prometheus_client         0.14.1          py310haa95532_0  \n",
      "prompt-toolkit            3.0.43          py310haa95532_0  \n",
      "prompt_toolkit            3.0.43               hd3eb1b0_0  \n",
      "protobuf                  3.20.3          py310hd77b12b_0  \n",
      "psutil                    5.9.0           py310h2bbff1b_0  \n",
      "pure_eval                 0.2.2              pyhd3eb1b0_0  \n",
      "pyasn1                    0.4.8              pyhd3eb1b0_0  \n",
      "pyasn1-modules            0.2.8                      py_0  \n",
      "pybind11-abi              5                    hd3eb1b0_0  \n",
      "pycparser                 2.21               pyhd3eb1b0_0  \n",
      "pygments                  2.15.1          py310haa95532_1  \n",
      "pyjwt                     2.4.0           py310haa95532_0  \n",
      "pyopenssl                 23.2.0          py310haa95532_0  \n",
      "pyparsing                 3.0.9           py310haa95532_0  \n",
      "pyqt                      5.15.10         py310hd77b12b_0  \n",
      "pyqt5-sip                 12.13.0         py310h2bbff1b_0  \n",
      "pysocks                   1.7.1           py310haa95532_0  \n",
      "python                    3.10.13              h966fe2a_0  \n",
      "python-dateutil           2.8.2              pyhd3eb1b0_0  \n",
      "python-fastjsonschema     2.16.2          py310haa95532_0  \n",
      "python-flatbuffers        2.0                pyhd3eb1b0_0  \n",
      "python-json-logger        2.0.7           py310haa95532_0  \n",
      "python-tzdata             2023.3             pyhd3eb1b0_0  \n",
      "pytz                      2024.1          py310haa95532_0  \n",
      "pywin32                   305             py310h2bbff1b_0  \n",
      "pywinpty                  2.0.10          py310h5da7b33_0  \n",
      "pyyaml                    6.0.1           py310h2bbff1b_0  \n",
      "pyzmq                     25.1.2          py310hd77b12b_0  \n",
      "qt-main                   5.15.2               h6072711_9  \n",
      "qtconsole                 5.5.1           py310haa95532_0  \n",
      "qtpy                      2.4.1           py310haa95532_0  \n",
      "re2                       2022.04.01           hd77b12b_0  \n",
      "referencing               0.30.2          py310haa95532_0  \n",
      "requests                  2.31.0          py310haa95532_1  \n",
      "requests-oauthlib         1.3.0                      py_0  \n",
      "rfc3339-validator         0.1.4           py310haa95532_0  \n",
      "rfc3986-validator         0.1.1           py310haa95532_0  \n",
      "rpds-py                   0.10.6          py310h062c2fa_0  \n",
      "rsa                       4.7.2              pyhd3eb1b0_1  \n",
      "scipy                     1.13.0          py310h8640f81_0  \n",
      "send2trash                1.8.2           py310haa95532_0  \n",
      "setuptools                68.2.2          py310haa95532_0  \n",
      "sip                       6.7.12          py310hd77b12b_0  \n",
      "six                       1.16.0             pyhd3eb1b0_1  \n",
      "snappy                    1.1.10               h6c2663c_1  \n",
      "sniffio                   1.3.0           py310haa95532_0  \n",
      "soupsieve                 2.5             py310haa95532_0  \n",
      "sqlite                    3.41.2               h2bbff1b_0  \n",
      "stack_data                0.2.0              pyhd3eb1b0_0  \n",
      "tbb                       2021.8.0             h59b6b97_0  \n",
      "tensorboard               2.10.0          py310haa95532_0  \n",
      "tensorboard-data-server   0.6.1           py310haa95532_0  \n",
      "tensorboard-plugin-wit    1.8.1           py310haa95532_0  \n",
      "tensorflow                2.10.0          mkl_py310hd99672f_0  \n",
      "tensorflow-base           2.10.0          mkl_py310h6a7f48e_0  \n",
      "tensorflow-estimator      2.10.0          py310haa95532_0  \n",
      "termcolor                 2.1.0           py310haa95532_0  \n",
      "terminado                 0.17.1          py310haa95532_0  \n",
      "tinycss2                  1.2.1           py310haa95532_0  \n",
      "tk                        8.6.12               h2bbff1b_0  \n",
      "tomli                     2.0.1           py310haa95532_0  \n",
      "tornado                   6.3.3           py310h2bbff1b_0  \n",
      "traitlets                 5.7.1           py310haa95532_0  \n",
      "typing-extensions         4.9.0           py310haa95532_1  \n",
      "typing_extensions         4.9.0           py310haa95532_1  \n",
      "tzdata                    2024a                h04d1e81_0  \n",
      "unicodedata2              15.1.0          py310h2bbff1b_0  \n",
      "urllib3                   2.1.0           py310haa95532_1  \n",
      "vc                        14.2                 h21ff451_1  \n",
      "vs2015_runtime            14.27.29016          h5e58377_2  \n",
      "wcwidth                   0.2.5              pyhd3eb1b0_0  \n",
      "webencodings              0.5.1           py310haa95532_1  \n",
      "websocket-client          0.58.0          py310haa95532_4  \n",
      "werkzeug                  2.3.8           py310haa95532_0  \n",
      "wheel                     0.41.2          py310haa95532_0  \n",
      "widgetsnbextension        4.0.10          py310haa95532_0  \n",
      "win_inet_pton             1.1.0           py310haa95532_0  \n",
      "winpty                    0.4.3                         4  \n",
      "wrapt                     1.14.1          py310h2bbff1b_0  \n",
      "xz                        5.4.6                h8cc25b3_0  \n",
      "yaml                      0.2.5                he774522_0  \n",
      "yarl                      1.9.3           py310h2bbff1b_0  \n",
      "zeromq                    4.3.5                hd77b12b_0  \n",
      "zlib                      1.2.13               h8cc25b3_0  \n",
      "zstd                      1.5.5                hd43e919_0  \n"
     ]
    }
   ],
   "source": [
    "!conda list"
   ]
  },
  {
   "cell_type": "code",
   "execution_count": 9,
   "metadata": {},
   "outputs": [
    {
     "name": "stdout",
     "output_type": "stream",
     "text": [
      "# packages in environment at C:\\Program Files\\anaconda3\\envs\\py310:\n",
      "#\n",
      "# Name                    Version                   Build  Channel\n",
      "_tflow_select             2.3.0                       mkl  \n",
      "abseil-cpp                20211102.0           hd77b12b_0  \n",
      "absl-py                   2.1.0           py310haa95532_0  \n",
      "aiohttp                   3.9.3           py310h2bbff1b_0  \n",
      "aiosignal                 1.2.0              pyhd3eb1b0_0  \n",
      "anyio                     4.2.0           py310haa95532_0  \n",
      "argon2-cffi               21.3.0             pyhd3eb1b0_0  \n",
      "argon2-cffi-bindings      21.2.0          py310h2bbff1b_0  \n",
      "asttokens                 2.0.5              pyhd3eb1b0_0  \n",
      "astunparse                1.6.3                      py_0  \n",
      "async-lru                 2.0.4           py310haa95532_0  \n",
      "async-timeout             4.0.3           py310haa95532_0  \n",
      "attrs                     23.1.0          py310haa95532_0  \n",
      "babel                     2.11.0          py310haa95532_0  \n",
      "beautifulsoup4            4.12.2          py310haa95532_0  \n",
      "blas                      1.0                         mkl  \n",
      "bleach                    4.1.0              pyhd3eb1b0_0  \n",
      "blinker                   1.6.2           py310haa95532_0  \n",
      "bottleneck                1.3.7           py310h9128911_0  \n",
      "brotli                    1.0.9                h2bbff1b_7  \n",
      "brotli-bin                1.0.9                h2bbff1b_7  \n",
      "brotli-python             1.0.9           py310hd77b12b_7  \n",
      "bzip2                     1.0.8                h2bbff1b_5  \n",
      "c-ares                    1.19.1               h2bbff1b_0  \n",
      "ca-certificates           2024.3.11            haa95532_0  \n",
      "cachetools                5.3.3           py310haa95532_0  \n",
      "certifi                   2024.2.2        py310haa95532_0  \n",
      "cffi                      1.16.0          py310h2bbff1b_0  \n",
      "charset-normalizer        2.0.4              pyhd3eb1b0_0  \n",
      "click                     8.1.7           py310haa95532_0  \n",
      "colorama                  0.4.6           py310haa95532_0  \n",
      "comm                      0.2.1           py310haa95532_0  \n",
      "contourpy                 1.2.0           py310h59b6b97_0  \n",
      "cryptography              41.0.3          py310h3438e0d_0  \n",
      "cycler                    0.11.0             pyhd3eb1b0_0  \n",
      "debugpy                   1.6.7           py310hd77b12b_0  \n",
      "decorator                 5.1.1              pyhd3eb1b0_0  \n",
      "defusedxml                0.7.1              pyhd3eb1b0_0  \n",
      "exceptiongroup            1.2.0           py310haa95532_0  \n",
      "executing                 0.8.3              pyhd3eb1b0_0  \n",
      "flatbuffers               2.0.0                h6c2663c_0  \n",
      "fonttools                 4.51.0          py310h2bbff1b_0  \n",
      "freetype                  2.12.1               ha860e81_0  \n",
      "frozenlist                1.4.0           py310h2bbff1b_0  \n",
      "gast                      0.4.0              pyhd3eb1b0_0  \n",
      "giflib                    5.2.1                h8cc25b3_3  \n",
      "google-auth               2.6.0              pyhd3eb1b0_0  \n",
      "google-auth-oauthlib      0.4.4              pyhd3eb1b0_0  \n",
      "google-pasta              0.2.0              pyhd3eb1b0_0  \n",
      "grpc-cpp                  1.48.2               hf108199_0  \n",
      "grpcio                    1.48.2          py310hf108199_0  \n",
      "h5py                      3.9.0           py310hfc34f40_0  \n",
      "hdf5                      1.12.1               h51c971a_3  \n",
      "icc_rt                    2022.1.0             h6049295_2  \n",
      "icu                       58.2                 ha925a31_3  \n",
      "idna                      3.4             py310haa95532_0  \n",
      "intel-openmp              2023.1.0         h59b6b97_46320  \n",
      "ipykernel                 6.28.0          py310haa95532_0  \n",
      "ipython                   8.20.0          py310haa95532_0  \n",
      "ipywidgets                8.1.2           py310haa95532_0  \n",
      "jedi                      0.18.1          py310haa95532_1  \n",
      "jinja2                    3.1.3           py310haa95532_0  \n",
      "jpeg                      9e                   h2bbff1b_1  \n",
      "json5                     0.9.6              pyhd3eb1b0_0  \n",
      "jsonschema                4.19.2          py310haa95532_0  \n",
      "jsonschema-specifications 2023.7.1        py310haa95532_0  \n",
      "jupyter                   1.0.0           py310haa95532_9  \n",
      "jupyter-lsp               2.2.0           py310haa95532_0  \n",
      "jupyter_client            8.6.0           py310haa95532_0  \n",
      "jupyter_console           6.6.3           py310haa95532_0  \n",
      "jupyter_core              5.5.0           py310haa95532_0  \n",
      "jupyter_events            0.8.0           py310haa95532_0  \n",
      "jupyter_server            2.10.0          py310haa95532_0  \n",
      "jupyter_server_terminals  0.4.4           py310haa95532_1  \n",
      "jupyterlab                4.0.11          py310haa95532_0  \n",
      "jupyterlab_pygments       0.1.2                      py_0  \n",
      "jupyterlab_server         2.25.1          py310haa95532_0  \n",
      "jupyterlab_widgets        3.0.10          py310haa95532_0  \n",
      "keras                     2.10.0          py310haa95532_0  \n",
      "keras-preprocessing       1.1.2              pyhd3eb1b0_0  \n",
      "kiwisolver                1.4.4           py310hd77b12b_0  \n",
      "krb5                      1.20.1               h5b6d351_1  \n",
      "lerc                      3.0                  hd77b12b_0  \n",
      "libbrotlicommon           1.0.9                h2bbff1b_7  \n",
      "libbrotlidec              1.0.9                h2bbff1b_7  \n",
      "libbrotlienc              1.0.9                h2bbff1b_7  \n",
      "libclang                  14.0.6          default_hb5a9fac_1  \n",
      "libclang13                14.0.6          default_h8e68704_1  \n",
      "libcurl                   8.5.0                h86230a5_0  \n",
      "libdeflate                1.17                 h2bbff1b_1  \n",
      "libffi                    3.4.4                hd77b12b_0  \n",
      "libpng                    1.6.39               h8cc25b3_0  \n",
      "libpq                     12.15                hb652d5d_1  \n",
      "libprotobuf               3.20.3               h23ce68f_0  \n",
      "libsodium                 1.0.18               h62dcd97_0  \n",
      "libssh2                   1.10.0               hcd4344a_2  \n",
      "libtiff                   4.5.1                hd77b12b_0  \n",
      "libwebp-base              1.3.2                h2bbff1b_0  \n",
      "lz4-c                     1.9.4                h2bbff1b_0  \n",
      "markdown                  3.4.1           py310haa95532_0  \n",
      "markupsafe                2.1.3           py310h2bbff1b_0  \n",
      "matplotlib                3.8.4           py310haa95532_0  \n",
      "matplotlib-base           3.8.4           py310h4ed8f06_0  \n",
      "matplotlib-inline         0.1.6           py310haa95532_0  \n",
      "mistune                   2.0.4           py310haa95532_0  \n",
      "mkl                       2023.1.0         h6b88ed4_46358  \n",
      "mkl-service               2.4.0           py310h2bbff1b_1  \n",
      "mkl_fft                   1.3.8           py310h2bbff1b_0  \n",
      "mkl_random                1.2.4           py310h59b6b97_0  \n",
      "multidict                 6.0.4           py310h2bbff1b_0  \n",
      "nbclient                  0.8.0           py310haa95532_0  \n",
      "nbconvert                 7.10.0          py310haa95532_0  \n",
      "nbformat                  5.9.2           py310haa95532_0  \n",
      "nest-asyncio              1.6.0           py310haa95532_0  \n",
      "notebook                  7.0.8           py310haa95532_0  \n",
      "notebook-shim             0.2.3           py310haa95532_0  \n",
      "numexpr                   2.8.7           py310h2cd9be0_0  \n",
      "numpy                     1.26.4          py310h055cbcc_0  \n",
      "numpy-base                1.26.4          py310h65a83cf_0  \n",
      "oauthlib                  3.2.2           py310haa95532_0  \n",
      "openjpeg                  2.4.0                h4fc8c34_0  \n",
      "openssl                   1.1.1w               h2bbff1b_0  \n",
      "opt_einsum                3.3.0              pyhd3eb1b0_1  \n",
      "overrides                 7.4.0           py310haa95532_0  \n",
      "packaging                 23.2            py310haa95532_0  \n",
      "pandas                    2.2.1           py310h5da7b33_0  \n",
      "pandocfilters             1.5.0              pyhd3eb1b0_0  \n",
      "parso                     0.8.3              pyhd3eb1b0_0  \n",
      "pillow                    10.2.0          py310h2bbff1b_0  \n",
      "pip                       24.0                     pypi_0    pypi\n",
      "platformdirs              3.10.0          py310haa95532_0  \n",
      "ply                       3.11            py310haa95532_0  \n",
      "prometheus_client         0.14.1          py310haa95532_0  \n",
      "prompt-toolkit            3.0.43          py310haa95532_0  \n",
      "prompt_toolkit            3.0.43               hd3eb1b0_0  \n",
      "protobuf                  3.20.3          py310hd77b12b_0  \n",
      "psutil                    5.9.0           py310h2bbff1b_0  \n",
      "pure_eval                 0.2.2              pyhd3eb1b0_0  \n",
      "pyasn1                    0.4.8              pyhd3eb1b0_0  \n",
      "pyasn1-modules            0.2.8                      py_0  \n",
      "pybind11-abi              5                    hd3eb1b0_0  \n",
      "pycparser                 2.21               pyhd3eb1b0_0  \n",
      "pygments                  2.15.1          py310haa95532_1  \n",
      "pyjwt                     2.4.0           py310haa95532_0  \n",
      "pyopenssl                 23.2.0          py310haa95532_0  \n",
      "pyparsing                 3.0.9           py310haa95532_0  \n",
      "pyqt                      5.15.10         py310hd77b12b_0  \n",
      "pyqt5-sip                 12.13.0         py310h2bbff1b_0  \n",
      "pysocks                   1.7.1           py310haa95532_0  \n",
      "python                    3.10.13              h966fe2a_0  \n",
      "python-dateutil           2.8.2              pyhd3eb1b0_0  \n",
      "python-fastjsonschema     2.16.2          py310haa95532_0  \n",
      "python-flatbuffers        2.0                pyhd3eb1b0_0  \n",
      "python-json-logger        2.0.7           py310haa95532_0  \n",
      "python-tzdata             2023.3             pyhd3eb1b0_0  \n",
      "pytz                      2024.1          py310haa95532_0  \n",
      "pywin32                   305             py310h2bbff1b_0  \n",
      "pywinpty                  2.0.10          py310h5da7b33_0  \n",
      "pyyaml                    6.0.1           py310h2bbff1b_0  \n",
      "pyzmq                     25.1.2          py310hd77b12b_0  \n",
      "qt-main                   5.15.2               h6072711_9  \n",
      "qtconsole                 5.5.1           py310haa95532_0  \n",
      "qtpy                      2.4.1           py310haa95532_0  \n",
      "re2                       2022.04.01           hd77b12b_0  \n",
      "referencing               0.30.2          py310haa95532_0  \n",
      "requests                  2.31.0          py310haa95532_1  \n",
      "requests-oauthlib         1.3.0                      py_0  \n",
      "rfc3339-validator         0.1.4           py310haa95532_0  \n",
      "rfc3986-validator         0.1.1           py310haa95532_0  \n",
      "rpds-py                   0.10.6          py310h062c2fa_0  \n",
      "rsa                       4.7.2              pyhd3eb1b0_1  \n",
      "scipy                     1.13.0          py310h8640f81_0  \n",
      "send2trash                1.8.2           py310haa95532_0  \n",
      "setuptools                68.2.2          py310haa95532_0  \n",
      "sip                       6.7.12          py310hd77b12b_0  \n",
      "six                       1.16.0             pyhd3eb1b0_1  \n",
      "snappy                    1.1.10               h6c2663c_1  \n",
      "sniffio                   1.3.0           py310haa95532_0  \n",
      "soupsieve                 2.5             py310haa95532_0  \n",
      "sqlite                    3.41.2               h2bbff1b_0  \n",
      "stack_data                0.2.0              pyhd3eb1b0_0  \n",
      "tbb                       2021.8.0             h59b6b97_0  \n",
      "tensorboard               2.10.0          py310haa95532_0  \n",
      "tensorboard-data-server   0.6.1           py310haa95532_0  \n",
      "tensorboard-plugin-wit    1.8.1           py310haa95532_0  \n",
      "tensorflow                2.10.0          mkl_py310hd99672f_0  \n",
      "tensorflow-base           2.10.0          mkl_py310h6a7f48e_0  \n",
      "tensorflow-estimator      2.10.0          py310haa95532_0  \n",
      "termcolor                 2.1.0           py310haa95532_0  \n",
      "terminado                 0.17.1          py310haa95532_0  \n",
      "tinycss2                  1.2.1           py310haa95532_0  \n",
      "tk                        8.6.12               h2bbff1b_0  \n",
      "tomli                     2.0.1           py310haa95532_0  \n",
      "tornado                   6.3.3           py310h2bbff1b_0  \n",
      "traitlets                 5.7.1           py310haa95532_0  \n",
      "typing-extensions         4.9.0           py310haa95532_1  \n",
      "typing_extensions         4.9.0           py310haa95532_1  \n",
      "tzdata                    2024a                h04d1e81_0  \n",
      "unicodedata2              15.1.0          py310h2bbff1b_0  \n",
      "urllib3                   2.1.0           py310haa95532_1  \n",
      "vc                        14.2                 h21ff451_1  \n",
      "vs2015_runtime            14.27.29016          h5e58377_2  \n",
      "wcwidth                   0.2.5              pyhd3eb1b0_0  \n",
      "webencodings              0.5.1           py310haa95532_1  \n",
      "websocket-client          0.58.0          py310haa95532_4  \n",
      "werkzeug                  2.3.8           py310haa95532_0  \n",
      "wheel                     0.41.2          py310haa95532_0  \n",
      "widgetsnbextension        4.0.10          py310haa95532_0  \n",
      "win_inet_pton             1.1.0           py310haa95532_0  \n",
      "winpty                    0.4.3                         4  \n",
      "wrapt                     1.14.1          py310h2bbff1b_0  \n",
      "xz                        5.4.6                h8cc25b3_0  \n",
      "yaml                      0.2.5                he774522_0  \n",
      "yarl                      1.9.3           py310h2bbff1b_0  \n",
      "zeromq                    4.3.5                hd77b12b_0  \n",
      "zlib                      1.2.13               h8cc25b3_0  \n",
      "zstd                      1.5.5                hd43e919_0  \n"
     ]
    }
   ],
   "source": [
    "!conda list"
   ]
  },
  {
   "cell_type": "markdown",
   "metadata": {},
   "source": [
    "### Jupyter Notebook\n",
    "\n",
    "<pre>\n",
    "jupyter notebook ]\n",
    "    HTML 환경의 Python 코드에디터\n",
    "특징 ]\n",
    "    셀(명령블럭) 단위로 실행된다.\n",
    "</pre>"
   ]
  },
  {
   "cell_type": "markdown",
   "metadata": {},
   "source": [
    "<hr>\n",
    "<pre>\n",
    "    \n",
    "</pre>\n",
    "<hr>"
   ]
  },
  {
   "cell_type": "code",
   "execution_count": 2,
   "metadata": {},
   "outputs": [],
   "source": [
    "# abc\n",
    "def abc():\n",
    "    return '나는 abc'\n"
   ]
  },
  {
   "cell_type": "code",
   "execution_count": 3,
   "metadata": {},
   "outputs": [
    {
     "data": {
      "text/plain": [
       "'나는 abc'"
      ]
     },
     "execution_count": 3,
     "metadata": {},
     "output_type": "execute_result"
    }
   ],
   "source": [
    "abc()\n",
    "\n"
   ]
  },
  {
   "cell_type": "code",
   "execution_count": 4,
   "metadata": {},
   "outputs": [],
   "source": [
    "xyz = abc"
   ]
  },
  {
   "cell_type": "code",
   "execution_count": 5,
   "metadata": {},
   "outputs": [],
   "source": [
    "func1 = abc\n",
    "func2 = abc"
   ]
  },
  {
   "cell_type": "code",
   "execution_count": 6,
   "metadata": {},
   "outputs": [
    {
     "data": {
      "text/plain": [
       "'나는 abc'"
      ]
     },
     "execution_count": 6,
     "metadata": {},
     "output_type": "execute_result"
    }
   ],
   "source": [
    "func2()"
   ]
  },
  {
   "cell_type": "code",
   "execution_count": 7,
   "metadata": {},
   "outputs": [
    {
     "name": "stdout",
     "output_type": "stream",
     "text": [
      "[12, 'abcde', (4+2j), [3, 4, 5], 'add']\n"
     ]
    }
   ],
   "source": [
    "a = [12, 'abcde', 4 + 2j, [3,4,5]]\n",
    "a.append('add')\n",
    "print(a)"
   ]
  },
  {
   "cell_type": "code",
   "execution_count": 24,
   "metadata": {},
   "outputs": [
    {
     "data": {
      "text/plain": [
       "'lisa'"
      ]
     },
     "execution_count": 24,
     "metadata": {},
     "output_type": "execute_result"
    }
   ],
   "source": [
    "member ={\n",
    "    '1': 'jennie',\n",
    "    '2': 'jisoo',\n",
    "    '3': 'rose',\n",
    "    '4': 'lisa'\n",
    "}\n",
    "\n",
    "memb ={'jennie', 'lisa', 'jisoo', 'rose'}\n",
    "member['1']\n",
    "\n",
    "list(memb)[3]"
   ]
  },
  {
   "cell_type": "code",
   "execution_count": 30,
   "metadata": {},
   "outputs": [
    {
     "data": {
      "text/plain": [
       "'jisoo'"
      ]
     },
     "execution_count": 30,
     "metadata": {},
     "output_type": "execute_result"
    }
   ],
   "source": [
    "\n",
    "list(memb)[1]"
   ]
  },
  {
   "cell_type": "code",
   "execution_count": 31,
   "metadata": {},
   "outputs": [
    {
     "name": "stdout",
     "output_type": "stream",
     "text": [
      "['False', 'None', 'True', 'and', 'as', 'assert', 'async', 'await', 'break', 'class', 'continue', 'def', 'del', 'elif', 'else', 'except', 'finally', 'for', 'from', 'global', 'if', 'import', 'in', 'is', 'lambda', 'nonlocal', 'not', 'or', 'pass', 'raise', 'return', 'try', 'while', 'with', 'yield']\n"
     ]
    }
   ],
   "source": [
    "import keyword as kw\n",
    "print(kw.kwlist)"
   ]
  },
  {
   "cell_type": "code",
   "execution_count": 32,
   "metadata": {},
   "outputs": [
    {
     "name": "stdout",
     "output_type": "stream",
     "text": [
      "35\n"
     ]
    }
   ],
   "source": [
    "print(len(kw.kwlist)) # java의 length"
   ]
  },
  {
   "cell_type": "code",
   "execution_count": 36,
   "metadata": {},
   "outputs": [
    {
     "name": "stdout",
     "output_type": "stream",
     "text": [
      "\n"
     ]
    }
   ],
   "source": [
    "str(123)\n",
    "print() # java의 println()"
   ]
  },
  {
   "cell_type": "code",
   "execution_count": 37,
   "metadata": {},
   "outputs": [
    {
     "name": "stdout",
     "output_type": "stream",
     "text": [
      "1. Hello World\n",
      "2. 나는 abc함수\n"
     ]
    }
   ],
   "source": [
    "import test01 as t1"
   ]
  },
  {
   "cell_type": "code",
   "execution_count": 39,
   "metadata": {},
   "outputs": [
    {
     "name": "stdout",
     "output_type": "stream",
     "text": [
      "nums type :  <class 'int'>\n",
      "nums :  1\n"
     ]
    }
   ],
   "source": [
    "nums = [1,2,3]\n",
    "num = nums[0]\n",
    "\n",
    "print('nums type : ' ,type(num))\n",
    "print('nums : ', num)"
   ]
  },
  {
   "cell_type": "code",
   "execution_count": 48,
   "metadata": {},
   "outputs": [
    {
     "name": "stdout",
     "output_type": "stream",
     "text": [
      "1 번째 숫자 : 1\n",
      "2 번째 숫자 : 2\n",
      "3 번째 숫자 : 3\n"
     ]
    }
   ],
   "source": [
    "for i in range(len(nums)):\n",
    "    print(i + 1, '번째 숫자 :', nums[i], sep=' ', end='\\n')"
   ]
  },
  {
   "cell_type": "code",
   "execution_count": 54,
   "metadata": {},
   "outputs": [
    {
     "name": "stdout",
     "output_type": "stream",
     "text": [
      "10\n",
      "3.14\n",
      "None\n",
      "None\n"
     ]
    }
   ],
   "source": [
    "def abc(no = 10):\n",
    "    print(no)\n",
    "no1 = abc()\n",
    "no2 = abc(3.14)\n",
    "print(no1)\n",
    "print(no2)"
   ]
  },
  {
   "cell_type": "code",
   "execution_count": 56,
   "metadata": {},
   "outputs": [
    {
     "name": "stdout",
     "output_type": "stream",
     "text": [
      "2\n",
      "56435\n"
     ]
    }
   ],
   "source": [
    "list1 = [12,3,4,5,56435,3,2]\n",
    "print(str(min(list1)))\n",
    "print(str(max(list1)))\n"
   ]
  },
  {
   "cell_type": "code",
   "execution_count": 57,
   "metadata": {},
   "outputs": [
    {
     "name": "stdout",
     "output_type": "stream",
     "text": [
      "no : 3.14\n"
     ]
    }
   ],
   "source": [
    "# 두 데이터를 결합해서 문자열을 만들기\n",
    "# python 에서는 두 데이터의 연산작업은 타입이 동일해야 한다.\n",
    "msg = 'no : '\n",
    "no3 = 3.14\n",
    "print(msg + str(no3))"
   ]
  },
  {
   "cell_type": "code",
   "execution_count": 61,
   "metadata": {},
   "outputs": [
    {
     "name": "stdout",
     "output_type": "stream",
     "text": [
      "2 x 1 = 2\n",
      "2 x 2 = 4\n",
      "2 x 3 = 6\n",
      "2 x 4 = 8\n",
      "2 x 5 = 10\n",
      "2 x 6 = 12\n",
      "2 x 7 = 14\n",
      "2 x 8 = 16\n",
      "2 x 9 = 18\n",
      "\n",
      "3 x 1 = 3\n",
      "3 x 2 = 6\n",
      "3 x 3 = 9\n",
      "3 x 4 = 12\n",
      "3 x 5 = 15\n",
      "3 x 6 = 18\n",
      "3 x 7 = 21\n",
      "3 x 8 = 24\n",
      "3 x 9 = 27\n",
      "\n",
      "4 x 1 = 4\n",
      "4 x 2 = 8\n",
      "4 x 3 = 12\n",
      "4 x 4 = 16\n",
      "4 x 5 = 20\n",
      "4 x 6 = 24\n",
      "4 x 7 = 28\n",
      "4 x 8 = 32\n",
      "4 x 9 = 36\n",
      "\n",
      "5 x 1 = 5\n",
      "5 x 2 = 10\n",
      "5 x 3 = 15\n",
      "5 x 4 = 20\n",
      "5 x 5 = 25\n",
      "5 x 6 = 30\n",
      "5 x 7 = 35\n",
      "5 x 8 = 40\n",
      "5 x 9 = 45\n",
      "\n",
      "6 x 1 = 6\n",
      "6 x 2 = 12\n",
      "6 x 3 = 18\n",
      "6 x 4 = 24\n",
      "6 x 5 = 30\n",
      "6 x 6 = 36\n",
      "6 x 7 = 42\n",
      "6 x 8 = 48\n",
      "6 x 9 = 54\n",
      "\n",
      "7 x 1 = 7\n",
      "7 x 2 = 14\n",
      "7 x 3 = 21\n",
      "7 x 4 = 28\n",
      "7 x 5 = 35\n",
      "7 x 6 = 42\n",
      "7 x 7 = 49\n",
      "7 x 8 = 56\n",
      "7 x 9 = 63\n",
      "\n",
      "8 x 1 = 8\n",
      "8 x 2 = 16\n",
      "8 x 3 = 24\n",
      "8 x 4 = 32\n",
      "8 x 5 = 40\n",
      "8 x 6 = 48\n",
      "8 x 7 = 56\n",
      "8 x 8 = 64\n",
      "8 x 9 = 72\n",
      "\n",
      "9 x 1 = 9\n",
      "9 x 2 = 18\n",
      "9 x 3 = 27\n",
      "9 x 4 = 36\n",
      "9 x 5 = 45\n",
      "9 x 6 = 54\n",
      "9 x 7 = 63\n",
      "9 x 8 = 72\n",
      "9 x 9 = 81\n",
      "\n"
     ]
    }
   ],
   "source": [
    "for dan in range(2,10):\n",
    "    for gop in range(1,10):\n",
    "        print(dan, 'x', gop, '=', dan*gop)\n",
    "    print()"
   ]
  },
  {
   "cell_type": "code",
   "execution_count": 62,
   "metadata": {},
   "outputs": [
    {
     "name": "stdout",
     "output_type": "stream",
     "text": [
      "hello\n",
      "hellohello\n",
      "hellohellohello\n",
      "hellohellohellohello\n",
      "hellohellohellohellohello\n",
      "hellohellohellohellohellohello\n",
      "hellohellohellohellohellohellohello\n",
      "hellohellohellohellohellohellohellohello\n",
      "hellohellohellohellohellohellohellohellohello\n"
     ]
    }
   ],
   "source": [
    "for gop in range(1,10):\n",
    "    print('hello'*gop)"
   ]
  },
  {
   "cell_type": "code",
   "execution_count": 66,
   "metadata": {},
   "outputs": [
    {
     "name": "stdout",
     "output_type": "stream",
     "text": [
      "*\n",
      "**\n",
      "***\n",
      "****\n",
      "*****\n"
     ]
    }
   ],
   "source": [
    "for i in range(1,6):\n",
    "    print('*'*i)"
   ]
  },
  {
   "cell_type": "code",
   "execution_count": 67,
   "metadata": {},
   "outputs": [
    {
     "name": "stdout",
     "output_type": "stream",
     "text": [
      "12\n",
      "3\n",
      "4\n",
      "5\n",
      "56435\n",
      "3\n",
      "2\n"
     ]
    }
   ],
   "source": [
    "for num in list1:\n",
    "    print(num)"
   ]
  },
  {
   "cell_type": "code",
   "execution_count": 68,
   "metadata": {},
   "outputs": [
    {
     "data": {
      "text/plain": [
       "range(1, 10, 2)"
      ]
     },
     "execution_count": 68,
     "metadata": {},
     "output_type": "execute_result"
    }
   ],
   "source": [
    "range(1,10,2)"
   ]
  },
  {
   "cell_type": "code",
   "execution_count": 71,
   "metadata": {},
   "outputs": [
    {
     "name": "stdout",
     "output_type": "stream",
     "text": [
      "1\n",
      "3\n",
      "5\n",
      "7\n",
      "9\n"
     ]
    }
   ],
   "source": [
    "for no in range(1,10,2):\n",
    "    print(no)"
   ]
  },
  {
   "cell_type": "code",
   "execution_count": 1,
   "metadata": {},
   "outputs": [
    {
     "data": {
      "text/plain": [
       "[1, 3, 5, 7, 9]"
      ]
     },
     "execution_count": 1,
     "metadata": {},
     "output_type": "execute_result"
    }
   ],
   "source": [
    "def rng(start, end, step):\n",
    "    return [i for i in range(start, end, step)]\n",
    "rng(1,10,2)"
   ]
  },
  {
   "cell_type": "code",
   "execution_count": 2,
   "metadata": {},
   "outputs": [
    {
     "data": {
      "text/plain": [
       "[3, 6, 9, 12, 15, 18, 21, 24, 27]"
      ]
     },
     "execution_count": 2,
     "metadata": {},
     "output_type": "execute_result"
    }
   ],
   "source": [
    "rng(step=3, start=3, end=30)"
   ]
  }
 ],
 "metadata": {
  "kernelspec": {
   "display_name": "py310",
   "language": "python",
   "name": "python3"
  },
  "language_info": {
   "codemirror_mode": {
    "name": "ipython",
    "version": 3
   },
   "file_extension": ".py",
   "mimetype": "text/x-python",
   "name": "python",
   "nbconvert_exporter": "python",
   "pygments_lexer": "ipython3",
   "version": "3.10.13"
  }
 },
 "nbformat": 4,
 "nbformat_minor": 2
}
